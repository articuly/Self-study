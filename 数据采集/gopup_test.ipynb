{
 "cells": [
  {
   "cell_type": "code",
   "execution_count": 113,
   "outputs": [],
   "source": [
    "import gopup as gp\n",
    "import pandas as pd\n",
    "import matplotlib.pyplot as plt\n",
    "from Util import read_json\n",
    "\n",
    "cookie = read_json('config.json')['baidu_cookie']\n",
    "dtype = 'all'\n",
    "word = '疫情'\n",
    "start_date='2023-01-01'\n",
    "end_date= '2023-03-23'"
   ],
   "metadata": {
    "collapsed": false,
    "pycharm": {
     "name": "#%%\n"
    }
   }
  },
  {
   "cell_type": "code",
   "execution_count": 114,
   "outputs": [],
   "source": [
    "df = gp.baidu_search_index(word=word, start_date=start_date, end_date=end_date, cookie=cookie, type=dtype)"
   ],
   "metadata": {
    "collapsed": false,
    "pycharm": {
     "name": "#%%\n"
    }
   }
  },
  {
   "cell_type": "code",
   "execution_count": 115,
   "outputs": [
    {
     "data": {
      "text/plain": "           keyword type  index\ndate                          \n2023-01-01      疫情  all  34837\n2023-01-02      疫情  all  36862\n2023-01-03      疫情  all  40215\n2023-01-04      疫情  all  33426\n2023-01-05      疫情  all  32353\n...            ...  ...    ...\n2023-03-19      疫情  all  21937\n2023-03-20      疫情  all  18901\n2023-03-21      疫情  all  19590\n2023-03-22      疫情  all  23078\n2023-03-23      疫情  all  22726\n\n[82 rows x 3 columns]",
      "text/html": "<div>\n<style scoped>\n    .dataframe tbody tr th:only-of-type {\n        vertical-align: middle;\n    }\n\n    .dataframe tbody tr th {\n        vertical-align: top;\n    }\n\n    .dataframe thead th {\n        text-align: right;\n    }\n</style>\n<table border=\"1\" class=\"dataframe\">\n  <thead>\n    <tr style=\"text-align: right;\">\n      <th></th>\n      <th>keyword</th>\n      <th>type</th>\n      <th>index</th>\n    </tr>\n    <tr>\n      <th>date</th>\n      <th></th>\n      <th></th>\n      <th></th>\n    </tr>\n  </thead>\n  <tbody>\n    <tr>\n      <th>2023-01-01</th>\n      <td>疫情</td>\n      <td>all</td>\n      <td>34837</td>\n    </tr>\n    <tr>\n      <th>2023-01-02</th>\n      <td>疫情</td>\n      <td>all</td>\n      <td>36862</td>\n    </tr>\n    <tr>\n      <th>2023-01-03</th>\n      <td>疫情</td>\n      <td>all</td>\n      <td>40215</td>\n    </tr>\n    <tr>\n      <th>2023-01-04</th>\n      <td>疫情</td>\n      <td>all</td>\n      <td>33426</td>\n    </tr>\n    <tr>\n      <th>2023-01-05</th>\n      <td>疫情</td>\n      <td>all</td>\n      <td>32353</td>\n    </tr>\n    <tr>\n      <th>...</th>\n      <td>...</td>\n      <td>...</td>\n      <td>...</td>\n    </tr>\n    <tr>\n      <th>2023-03-19</th>\n      <td>疫情</td>\n      <td>all</td>\n      <td>21937</td>\n    </tr>\n    <tr>\n      <th>2023-03-20</th>\n      <td>疫情</td>\n      <td>all</td>\n      <td>18901</td>\n    </tr>\n    <tr>\n      <th>2023-03-21</th>\n      <td>疫情</td>\n      <td>all</td>\n      <td>19590</td>\n    </tr>\n    <tr>\n      <th>2023-03-22</th>\n      <td>疫情</td>\n      <td>all</td>\n      <td>23078</td>\n    </tr>\n    <tr>\n      <th>2023-03-23</th>\n      <td>疫情</td>\n      <td>all</td>\n      <td>22726</td>\n    </tr>\n  </tbody>\n</table>\n<p>82 rows × 3 columns</p>\n</div>"
     },
     "execution_count": 115,
     "metadata": {},
     "output_type": "execute_result"
    }
   ],
   "source": [
    "df"
   ],
   "metadata": {
    "collapsed": false,
    "pycharm": {
     "name": "#%%\n"
    }
   }
  },
  {
   "cell_type": "code",
   "execution_count": 116,
   "outputs": [
    {
     "data": {
      "text/plain": "(82, 3)"
     },
     "execution_count": 116,
     "metadata": {},
     "output_type": "execute_result"
    }
   ],
   "source": [
    "df.shape"
   ],
   "metadata": {
    "collapsed": false,
    "pycharm": {
     "name": "#%%\n"
    }
   }
  },
  {
   "cell_type": "code",
   "execution_count": 117,
   "outputs": [],
   "source": [
    "df1 = pd.DataFrame({'date': pd.date_range(start_date, end_date),\n",
    "                     'num': pd.to_numeric(df['index'])})"
   ],
   "metadata": {
    "collapsed": false,
    "pycharm": {
     "name": "#%%\n"
    }
   }
  },
  {
   "cell_type": "code",
   "execution_count": 118,
   "outputs": [],
   "source": [
    "plt.figure(figsize=(9, 9))\n",
    "plt.plot(df1['date'], df1['num'])\n",
    "plt.xlabel('date')\n",
    "plt.ylabel('indexes')\n",
    "plt.savefig('baidu_index1.png')\n",
    "plt.close()"
   ],
   "metadata": {
    "collapsed": false,
    "pycharm": {
     "name": "#%%\n"
    }
   }
  },
  {
   "cell_type": "code",
   "execution_count": 119,
   "outputs": [
    {
     "name": "stdout",
     "output_type": "stream",
     "text": [
      "<class 'pandas.core.frame.DataFrame'>\n",
      "DatetimeIndex: 82 entries, 2023-01-01 to 2023-03-23\n",
      "Data columns (total 2 columns):\n",
      " #   Column  Non-Null Count  Dtype         \n",
      "---  ------  --------------  -----         \n",
      " 0   date    82 non-null     datetime64[ns]\n",
      " 1   num     82 non-null     int64         \n",
      "dtypes: datetime64[ns](1), int64(1)\n",
      "memory usage: 1.9 KB\n"
     ]
    }
   ],
   "source": [
    "df1.info()"
   ],
   "metadata": {
    "collapsed": false,
    "pycharm": {
     "name": "#%%\n"
    }
   }
  },
  {
   "cell_type": "code",
   "execution_count": 120,
   "outputs": [],
   "source": [
    "df['num']=pd.to_numeric(df['index'])\n",
    "df.reset_index(inplace=True)"
   ],
   "metadata": {
    "collapsed": false,
    "pycharm": {
     "name": "#%%\n"
    }
   }
  },
  {
   "cell_type": "code",
   "execution_count": 123,
   "outputs": [],
   "source": [
    "df.drop(['keyword', 'type', 'index'], axis=1, inplace=True)"
   ],
   "metadata": {
    "collapsed": false,
    "pycharm": {
     "name": "#%%\n"
    }
   }
  },
  {
   "cell_type": "code",
   "execution_count": 129,
   "outputs": [],
   "source": [
    "plt.figure(figsize=(9, 5))\n",
    "plt.plot(df['date'], df['num'])\n",
    "plt.xlabel('date')\n",
    "plt.ylabel('indexes')\n",
    "plt.savefig('baidu_index2.png', facecolor='w')\n",
    "plt.close()"
   ],
   "metadata": {
    "collapsed": false,
    "pycharm": {
     "name": "#%%\n"
    }
   }
  }
 ],
 "metadata": {
  "kernelspec": {
   "display_name": "Python 3",
   "language": "python",
   "name": "python3"
  },
  "language_info": {
   "codemirror_mode": {
    "name": "ipython",
    "version": 2
   },
   "file_extension": ".py",
   "mimetype": "text/x-python",
   "name": "python",
   "nbconvert_exporter": "python",
   "pygments_lexer": "ipython2",
   "version": "2.7.6"
  }
 },
 "nbformat": 4,
 "nbformat_minor": 0
}