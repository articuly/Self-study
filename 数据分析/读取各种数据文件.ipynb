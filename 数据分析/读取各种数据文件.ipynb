{
 "cells": [
  {
   "cell_type": "code",
   "execution_count": 2,
   "metadata": {
    "collapsed": true,
    "pycharm": {
     "is_executing": false
    }
   },
   "outputs": [
    {
     "name": "stdout",
     "text": [
      "岗位,公司,地点,最低工资(万/月),最高工资(万/月)\n",
      "php开发工程师,重庆赶海科技有限公司,重庆,0.6,0.8\n",
      "java开发工程师,上海赛可出行科技服务有限公司,南京,1.5,2.5\n",
      "测试工程师,朗新科技股份有限公司,无锡,0.6,1\n",
      "web开发工程师,快助（天津）科技有限公司,天津,0.8,1\n",
      "销售顾问,上海钢联电子商务股份有限公司,深圳,1,1.5\n"
     ],
     "output_type": "stream"
    }
   ],
   "source": [
    "file01=r'D:\\Programing\\python_projects\\Self-study\\data_set\\3-2 job_chance.csv'\n",
    "with open(file01,'r',encoding='utf-8') as f:\n",
    "    lines=f.read()\n",
    "print(lines)"
   ]
  },
  {
   "cell_type": "code",
   "execution_count": 3,
   "outputs": [
    {
     "data": {
      "text/plain": "          岗位              公司  地点 最低工资(万/月) 最高工资(万/月)\n0   php开发工程师      重庆赶海科技有限公司  重庆       0.6       0.8\n1  java开发工程师  上海赛可出行科技服务有限公司  南京       1.5       2.5\n2      测试工程师      朗新科技股份有限公司  无锡       0.6         1\n3   web开发工程师    快助（天津）科技有限公司  天津       0.8         1\n4       销售顾问  上海钢联电子商务股份有限公司  深圳         1       1.5",
      "text/html": "<div>\n<style scoped>\n    .dataframe tbody tr th:only-of-type {\n        vertical-align: middle;\n    }\n\n    .dataframe tbody tr th {\n        vertical-align: top;\n    }\n\n    .dataframe thead th {\n        text-align: right;\n    }\n</style>\n<table border=\"1\" class=\"dataframe\">\n  <thead>\n    <tr style=\"text-align: right;\">\n      <th></th>\n      <th>岗位</th>\n      <th>公司</th>\n      <th>地点</th>\n      <th>最低工资(万/月)</th>\n      <th>最高工资(万/月)</th>\n    </tr>\n  </thead>\n  <tbody>\n    <tr>\n      <th>0</th>\n      <td>php开发工程师</td>\n      <td>重庆赶海科技有限公司</td>\n      <td>重庆</td>\n      <td>0.6</td>\n      <td>0.8</td>\n    </tr>\n    <tr>\n      <th>1</th>\n      <td>java开发工程师</td>\n      <td>上海赛可出行科技服务有限公司</td>\n      <td>南京</td>\n      <td>1.5</td>\n      <td>2.5</td>\n    </tr>\n    <tr>\n      <th>2</th>\n      <td>测试工程师</td>\n      <td>朗新科技股份有限公司</td>\n      <td>无锡</td>\n      <td>0.6</td>\n      <td>1</td>\n    </tr>\n    <tr>\n      <th>3</th>\n      <td>web开发工程师</td>\n      <td>快助（天津）科技有限公司</td>\n      <td>天津</td>\n      <td>0.8</td>\n      <td>1</td>\n    </tr>\n    <tr>\n      <th>4</th>\n      <td>销售顾问</td>\n      <td>上海钢联电子商务股份有限公司</td>\n      <td>深圳</td>\n      <td>1</td>\n      <td>1.5</td>\n    </tr>\n  </tbody>\n</table>\n</div>"
     },
     "metadata": {},
     "output_type": "execute_result",
     "execution_count": 3
    }
   ],
   "source": [
    "import pandas as pd\n",
    "# 用readlines方法读取文本文件，读取为列表格式，并去除末尾的回车符号；\n",
    "# 基于逗号分隔符，对每行进行处理分割为列表格式\n",
    "with open(file01,'r',encoding='utf-8') as f:\n",
    "    lines=f.readlines()\n",
    "content=[line.strip().split(',') for line in lines]\n",
    "df_job01=pd.DataFrame(content[1:],columns=content[0])\n",
    "df_job01"
   ],
   "metadata": {
    "collapsed": false,
    "pycharm": {
     "name": "#%%\n",
     "is_executing": false
    }
   }
  },
  {
   "cell_type": "code",
   "execution_count": 4,
   "outputs": [
    {
     "data": {
      "text/plain": "          岗位              公司  地点  最低工资(万/月)  最高工资(万/月)\n0   php开发工程师      重庆赶海科技有限公司  重庆        0.6        0.8\n1  java开发工程师  上海赛可出行科技服务有限公司  南京        1.5        2.5\n2      测试工程师      朗新科技股份有限公司  无锡        0.6        1.0\n3   web开发工程师    快助（天津）科技有限公司  天津        0.8        1.0\n4       销售顾问  上海钢联电子商务股份有限公司  深圳        1.0        1.5",
      "text/html": "<div>\n<style scoped>\n    .dataframe tbody tr th:only-of-type {\n        vertical-align: middle;\n    }\n\n    .dataframe tbody tr th {\n        vertical-align: top;\n    }\n\n    .dataframe thead th {\n        text-align: right;\n    }\n</style>\n<table border=\"1\" class=\"dataframe\">\n  <thead>\n    <tr style=\"text-align: right;\">\n      <th></th>\n      <th>岗位</th>\n      <th>公司</th>\n      <th>地点</th>\n      <th>最低工资(万/月)</th>\n      <th>最高工资(万/月)</th>\n    </tr>\n  </thead>\n  <tbody>\n    <tr>\n      <th>0</th>\n      <td>php开发工程师</td>\n      <td>重庆赶海科技有限公司</td>\n      <td>重庆</td>\n      <td>0.6</td>\n      <td>0.8</td>\n    </tr>\n    <tr>\n      <th>1</th>\n      <td>java开发工程师</td>\n      <td>上海赛可出行科技服务有限公司</td>\n      <td>南京</td>\n      <td>1.5</td>\n      <td>2.5</td>\n    </tr>\n    <tr>\n      <th>2</th>\n      <td>测试工程师</td>\n      <td>朗新科技股份有限公司</td>\n      <td>无锡</td>\n      <td>0.6</td>\n      <td>1.0</td>\n    </tr>\n    <tr>\n      <th>3</th>\n      <td>web开发工程师</td>\n      <td>快助（天津）科技有限公司</td>\n      <td>天津</td>\n      <td>0.8</td>\n      <td>1.0</td>\n    </tr>\n    <tr>\n      <th>4</th>\n      <td>销售顾问</td>\n      <td>上海钢联电子商务股份有限公司</td>\n      <td>深圳</td>\n      <td>1.0</td>\n      <td>1.5</td>\n    </tr>\n  </tbody>\n</table>\n</div>"
     },
     "metadata": {},
     "output_type": "execute_result",
     "execution_count": 4
    }
   ],
   "source": [
    "# read_csv 会自动默认第一行为列名，并根据第一列的特别，默认是否设置为索引\n",
    "df_job02=pd.read_csv(file01,encoding='utf-8')\n",
    "df_job02"
   ],
   "metadata": {
    "collapsed": false,
    "pycharm": {
     "name": "#%%\n",
     "is_executing": false
    }
   }
  },
  {
   "cell_type": "code",
   "execution_count": 8,
   "outputs": [
    {
     "data": {
      "text/plain": "Index(['php开发工程师', 'java开发工程师', '测试工程师', 'web开发工程师', '销售顾问'], dtype='object', name='岗位')"
     },
     "metadata": {},
     "output_type": "execute_result",
     "execution_count": 8
    }
   ],
   "source": [
    "# index_col 用来指定用作索引的列编号，0表示第一列；\n",
    "# header用来指定用作列名的编号，默认为0，表示取第一行，若不希望设置任何列名，则取None\n",
    "df_job03=pd.read_csv(file01,encoding='utf-8',index_col=0,header=0)\n",
    "df_job03\n",
    "df_job03.index\n",
    "# df_job03.columns"
   ],
   "metadata": {
    "collapsed": false,
    "pycharm": {
     "name": "#%%\n",
     "is_executing": false
    }
   }
  },
  {
   "cell_type": "code",
   "execution_count": 9,
   "outputs": [
    {
     "data": {
      "text/plain": "                       公司  地点  最低工资(万/月)  最高工资(万/月)\n岗位                                                 \nphp开发工程师       重庆赶海科技有限公司  重庆        0.6        0.8\njava开发工程师  上海赛可出行科技服务有限公司  南京        1.5        2.5\n测试工程师          朗新科技股份有限公司  无锡        0.6        1.0\nweb开发工程师     快助（天津）科技有限公司  天津        0.8        1.0\n销售顾问       上海钢联电子商务股份有限公司  深圳        1.0        1.5",
      "text/html": "<div>\n<style scoped>\n    .dataframe tbody tr th:only-of-type {\n        vertical-align: middle;\n    }\n\n    .dataframe tbody tr th {\n        vertical-align: top;\n    }\n\n    .dataframe thead th {\n        text-align: right;\n    }\n</style>\n<table border=\"1\" class=\"dataframe\">\n  <thead>\n    <tr style=\"text-align: right;\">\n      <th></th>\n      <th>公司</th>\n      <th>地点</th>\n      <th>最低工资(万/月)</th>\n      <th>最高工资(万/月)</th>\n    </tr>\n    <tr>\n      <th>岗位</th>\n      <th></th>\n      <th></th>\n      <th></th>\n      <th></th>\n    </tr>\n  </thead>\n  <tbody>\n    <tr>\n      <th>php开发工程师</th>\n      <td>重庆赶海科技有限公司</td>\n      <td>重庆</td>\n      <td>0.6</td>\n      <td>0.8</td>\n    </tr>\n    <tr>\n      <th>java开发工程师</th>\n      <td>上海赛可出行科技服务有限公司</td>\n      <td>南京</td>\n      <td>1.5</td>\n      <td>2.5</td>\n    </tr>\n    <tr>\n      <th>测试工程师</th>\n      <td>朗新科技股份有限公司</td>\n      <td>无锡</td>\n      <td>0.6</td>\n      <td>1.0</td>\n    </tr>\n    <tr>\n      <th>web开发工程师</th>\n      <td>快助（天津）科技有限公司</td>\n      <td>天津</td>\n      <td>0.8</td>\n      <td>1.0</td>\n    </tr>\n    <tr>\n      <th>销售顾问</th>\n      <td>上海钢联电子商务股份有限公司</td>\n      <td>深圳</td>\n      <td>1.0</td>\n      <td>1.5</td>\n    </tr>\n  </tbody>\n</table>\n</div>"
     },
     "metadata": {},
     "output_type": "execute_result",
     "execution_count": 9
    }
   ],
   "source": [
    "df_job04=pd.read_table(file01,encoding='utf-8',index_col=0,header=0,sep=',')\n",
    "df_job04"
   ],
   "metadata": {
    "collapsed": false,
    "pycharm": {
     "name": "#%%\n",
     "is_executing": false
    }
   }
  },
  {
   "cell_type": "code",
   "execution_count": 10,
   "outputs": [
    {
     "data": {
      "text/plain": "          岗位              公司  地点  最低工资(万/月)  最高工资(万/月)\n0   php开发工程师      重庆赶海科技有限公司  重庆        0.6        0.8\n1  java开发工程师  上海赛可出行科技服务有限公司  南京        1.5        2.5",
      "text/html": "<div>\n<style scoped>\n    .dataframe tbody tr th:only-of-type {\n        vertical-align: middle;\n    }\n\n    .dataframe tbody tr th {\n        vertical-align: top;\n    }\n\n    .dataframe thead th {\n        text-align: right;\n    }\n</style>\n<table border=\"1\" class=\"dataframe\">\n  <thead>\n    <tr style=\"text-align: right;\">\n      <th></th>\n      <th>岗位</th>\n      <th>公司</th>\n      <th>地点</th>\n      <th>最低工资(万/月)</th>\n      <th>最高工资(万/月)</th>\n    </tr>\n  </thead>\n  <tbody>\n    <tr>\n      <th>0</th>\n      <td>php开发工程师</td>\n      <td>重庆赶海科技有限公司</td>\n      <td>重庆</td>\n      <td>0.6</td>\n      <td>0.8</td>\n    </tr>\n    <tr>\n      <th>1</th>\n      <td>java开发工程师</td>\n      <td>上海赛可出行科技服务有限公司</td>\n      <td>南京</td>\n      <td>1.5</td>\n      <td>2.5</td>\n    </tr>\n  </tbody>\n</table>\n</div>"
     },
     "metadata": {},
     "output_type": "execute_result",
     "execution_count": 10
    }
   ],
   "source": [
    "# 只想读取2行\n",
    "df_job05=pd.read_csv(file01,encoding='utf-8',nrows=2)\n",
    "df_job05"
   ],
   "metadata": {
    "collapsed": false,
    "pycharm": {
     "name": "#%%\n",
     "is_executing": false
    }
   }
  },
  {
   "cell_type": "code",
   "execution_count": 12,
   "outputs": [
    {
     "name": "stdout",
     "text": [
      "          岗位              公司  地点  最低工资(万/月)  最高工资(万/月)\n",
      "0   php开发工程师      重庆赶海科技有限公司  重庆        0.6        0.8\n",
      "1  java开发工程师  上海赛可出行科技服务有限公司  南京        1.5        2.5\n",
      "         岗位            公司  地点  最低工资(万/月)  最高工资(万/月)\n",
      "2     测试工程师    朗新科技股份有限公司  无锡        0.6          1\n",
      "3  web开发工程师  快助（天津）科技有限公司  天津        0.8          1\n",
      "     岗位              公司  地点  最低工资(万/月)  最高工资(万/月)\n",
      "4  销售顾问  上海钢联电子商务股份有限公司  深圳          1        1.5\n"
     ],
     "output_type": "stream"
    }
   ],
   "source": [
    "# 通过制定chunksize，函数返回一个可以迭代的文件读取器\n",
    "chunker=pd.read_csv(file01,encoding='utf-8',chunksize=2)\n",
    "chunker\n",
    "# 可以通过循环进行迭代读取。这种方法对读取大文件很有优势。\n",
    "for piece in chunker:\n",
    "    print(piece)\n",
    "    "
   ],
   "metadata": {
    "collapsed": false,
    "pycharm": {
     "name": "#%%\n",
     "is_executing": false
    }
   }
  },
  {
   "cell_type": "code",
   "execution_count": 17,
   "outputs": [
    {
     "data": {
      "text/plain": "                                                 公司名称  \\\n0                                   上海太和水环境科技发展股份有限公司   \n1                                        济南圣泉集团股份有限公司   \n2                                    浙江省新能源投资集团股份有限公司   \n3                                        神通科技集团股份有限公司   \n4                                      苏州市味知香食品股份有限公司   \n5                                        重庆四方新材股份有限公司   \n6                                        宁波世茂能源股份有限公司   \n7                                        江西九丰能源股份有限公司   \n8                                     浙江大自然户外用品股份有限公司   \n9                                       浙江李子园食品股份有限公司   \n10                                       浙江迎丰科技股份有限公司   \n11                                       王力安防科技股份有限公司   \n12                                     长春英利汽车工业股份有限公司   \n13                                     陕西北元化工集团股份有限公司   \n14                                     上海健麾信息技术股份有限公司   \n15                                       江苏嵘泰工业股份有限公司   \n16                                       浙江一鸣食品股份有限公司   \n17                                       浙江天正电气股份有限公司   \n18                                       浙江帅丰电器股份有限公司   \n19                                     苏州林华医疗器械股份有限公司   \n20  共  88  页  1753  条记录 每页  20  条 第  1  页  首页 上一页 ...   \n\n                                                 披露日期  \\\n0                                          2020-01-03   \n1                                          2020-01-03   \n2                                          2020-01-03   \n3                                          2020-01-03   \n4                                          2020-01-03   \n5                                          2020-01-03   \n6                                          2019-12-27   \n7                                          2019-12-27   \n8                                          2019-12-27   \n9                                          2019-12-26   \n10                                         2019-12-26   \n11                                         2019-12-26   \n12                                         2019-12-26   \n13                                         2019-12-26   \n14                                         2019-12-20   \n15                                         2019-12-20   \n16                                         2019-12-20   \n17                                         2019-12-20   \n18                                         2019-12-20   \n19                                         2019-12-20   \n20  共  88  页  1753  条记录 每页  20  条 第  1  页  首页 上一页 ...   \n\n                                               上市地和板块  \\\n0                                                 上交所   \n1                                                 上交所   \n2                                                 上交所   \n3                                                 上交所   \n4                                                 上交所   \n5                                                 上交所   \n6                                                 上交所   \n7                                                 上交所   \n8                                                 上交所   \n9                                                 上交所   \n10                                                上交所   \n11                                                上交所   \n12                                                上交所   \n13                                                上交所   \n14                                                上交所   \n15                                                上交所   \n16                                                上交所   \n17                                                上交所   \n18                                                上交所   \n19                                                上交所   \n20  共  88  页  1753  条记录 每页  20  条 第  1  页  首页 上一页 ...   \n\n                                                 保荐机构  \\\n0                                          中原证券股份有限公司   \n1                                          长城证券股份有限公司   \n2                                          财通证券股份有限公司   \n3                                          广发证券股份有限公司   \n4                                        国泰君安证券股份有限公司   \n5                                          中原证券股份有限公司   \n6                                          东方花旗证券有限公司   \n7                                        中国国际金融股份有限公司   \n8                                          东方花旗证券有限公司   \n9                                          财通证券股份有限公司   \n10                                         国元证券股份有限公司   \n11                                         海通证券股份有限公司   \n12                                         中信证券股份有限公司   \n13                                       华泰联合证券有限责任公司   \n14                                         国信证券股份有限公司   \n15                                         广发证券股份有限公司   \n16                                         中信证券股份有限公司   \n17                                       国泰君安证券股份有限公司   \n18                                         国信证券股份有限公司   \n19                                       国泰君安证券股份有限公司   \n20  共  88  页  1753  条记录 每页  20  条 第  1  页  首页 上一页 ...   \n\n                                                 披露类型  \\\n0                                              预先披露更新   \n1                                                预先披露   \n2                                                预先披露   \n3                                              预先披露更新   \n4                                                预先披露   \n5                                              预先披露更新   \n6                                                预先披露   \n7                                                预先披露   \n8                                                预先披露   \n9                                                预先披露   \n10                                               预先披露   \n11                                               预先披露   \n12                                               预先披露   \n13                                               预先披露   \n14                                             预先披露更新   \n15                                             预先披露更新   \n16                                             预先披露更新   \n17                                             预先披露更新   \n18                                             预先披露更新   \n19                                               预先披露   \n20  共  88  页  1753  条记录 每页  20  条 第  1  页  首页 上一页 ...   \n\n                                                PDF资料  \n0                                               招股说明书  \n1                                               招股说明书  \n2                                               招股说明书  \n3                                               招股说明书  \n4                                               招股说明书  \n5                                               招股说明书  \n6                                               招股说明书  \n7                                               招股说明书  \n8                                               招股说明书  \n9                                               招股说明书  \n10                                              招股说明书  \n11                                              招股说明书  \n12                                              招股说明书  \n13                                              招股说明书  \n14                                              招股说明书  \n15                                              招股说明书  \n16                                              招股说明书  \n17                                              招股说明书  \n18                                              招股说明书  \n19                                              招股说明书  \n20  共  88  页  1753  条记录 每页  20  条 第  1  页  首页 上一页 ...  ",
      "text/html": "<div>\n<style scoped>\n    .dataframe tbody tr th:only-of-type {\n        vertical-align: middle;\n    }\n\n    .dataframe tbody tr th {\n        vertical-align: top;\n    }\n\n    .dataframe thead th {\n        text-align: right;\n    }\n</style>\n<table border=\"1\" class=\"dataframe\">\n  <thead>\n    <tr style=\"text-align: right;\">\n      <th></th>\n      <th>公司名称</th>\n      <th>披露日期</th>\n      <th>上市地和板块</th>\n      <th>保荐机构</th>\n      <th>披露类型</th>\n      <th>PDF资料</th>\n    </tr>\n  </thead>\n  <tbody>\n    <tr>\n      <th>0</th>\n      <td>上海太和水环境科技发展股份有限公司</td>\n      <td>2020-01-03</td>\n      <td>上交所</td>\n      <td>中原证券股份有限公司</td>\n      <td>预先披露更新</td>\n      <td>招股说明书</td>\n    </tr>\n    <tr>\n      <th>1</th>\n      <td>济南圣泉集团股份有限公司</td>\n      <td>2020-01-03</td>\n      <td>上交所</td>\n      <td>长城证券股份有限公司</td>\n      <td>预先披露</td>\n      <td>招股说明书</td>\n    </tr>\n    <tr>\n      <th>2</th>\n      <td>浙江省新能源投资集团股份有限公司</td>\n      <td>2020-01-03</td>\n      <td>上交所</td>\n      <td>财通证券股份有限公司</td>\n      <td>预先披露</td>\n      <td>招股说明书</td>\n    </tr>\n    <tr>\n      <th>3</th>\n      <td>神通科技集团股份有限公司</td>\n      <td>2020-01-03</td>\n      <td>上交所</td>\n      <td>广发证券股份有限公司</td>\n      <td>预先披露更新</td>\n      <td>招股说明书</td>\n    </tr>\n    <tr>\n      <th>4</th>\n      <td>苏州市味知香食品股份有限公司</td>\n      <td>2020-01-03</td>\n      <td>上交所</td>\n      <td>国泰君安证券股份有限公司</td>\n      <td>预先披露</td>\n      <td>招股说明书</td>\n    </tr>\n    <tr>\n      <th>5</th>\n      <td>重庆四方新材股份有限公司</td>\n      <td>2020-01-03</td>\n      <td>上交所</td>\n      <td>中原证券股份有限公司</td>\n      <td>预先披露更新</td>\n      <td>招股说明书</td>\n    </tr>\n    <tr>\n      <th>6</th>\n      <td>宁波世茂能源股份有限公司</td>\n      <td>2019-12-27</td>\n      <td>上交所</td>\n      <td>东方花旗证券有限公司</td>\n      <td>预先披露</td>\n      <td>招股说明书</td>\n    </tr>\n    <tr>\n      <th>7</th>\n      <td>江西九丰能源股份有限公司</td>\n      <td>2019-12-27</td>\n      <td>上交所</td>\n      <td>中国国际金融股份有限公司</td>\n      <td>预先披露</td>\n      <td>招股说明书</td>\n    </tr>\n    <tr>\n      <th>8</th>\n      <td>浙江大自然户外用品股份有限公司</td>\n      <td>2019-12-27</td>\n      <td>上交所</td>\n      <td>东方花旗证券有限公司</td>\n      <td>预先披露</td>\n      <td>招股说明书</td>\n    </tr>\n    <tr>\n      <th>9</th>\n      <td>浙江李子园食品股份有限公司</td>\n      <td>2019-12-26</td>\n      <td>上交所</td>\n      <td>财通证券股份有限公司</td>\n      <td>预先披露</td>\n      <td>招股说明书</td>\n    </tr>\n    <tr>\n      <th>10</th>\n      <td>浙江迎丰科技股份有限公司</td>\n      <td>2019-12-26</td>\n      <td>上交所</td>\n      <td>国元证券股份有限公司</td>\n      <td>预先披露</td>\n      <td>招股说明书</td>\n    </tr>\n    <tr>\n      <th>11</th>\n      <td>王力安防科技股份有限公司</td>\n      <td>2019-12-26</td>\n      <td>上交所</td>\n      <td>海通证券股份有限公司</td>\n      <td>预先披露</td>\n      <td>招股说明书</td>\n    </tr>\n    <tr>\n      <th>12</th>\n      <td>长春英利汽车工业股份有限公司</td>\n      <td>2019-12-26</td>\n      <td>上交所</td>\n      <td>中信证券股份有限公司</td>\n      <td>预先披露</td>\n      <td>招股说明书</td>\n    </tr>\n    <tr>\n      <th>13</th>\n      <td>陕西北元化工集团股份有限公司</td>\n      <td>2019-12-26</td>\n      <td>上交所</td>\n      <td>华泰联合证券有限责任公司</td>\n      <td>预先披露</td>\n      <td>招股说明书</td>\n    </tr>\n    <tr>\n      <th>14</th>\n      <td>上海健麾信息技术股份有限公司</td>\n      <td>2019-12-20</td>\n      <td>上交所</td>\n      <td>国信证券股份有限公司</td>\n      <td>预先披露更新</td>\n      <td>招股说明书</td>\n    </tr>\n    <tr>\n      <th>15</th>\n      <td>江苏嵘泰工业股份有限公司</td>\n      <td>2019-12-20</td>\n      <td>上交所</td>\n      <td>广发证券股份有限公司</td>\n      <td>预先披露更新</td>\n      <td>招股说明书</td>\n    </tr>\n    <tr>\n      <th>16</th>\n      <td>浙江一鸣食品股份有限公司</td>\n      <td>2019-12-20</td>\n      <td>上交所</td>\n      <td>中信证券股份有限公司</td>\n      <td>预先披露更新</td>\n      <td>招股说明书</td>\n    </tr>\n    <tr>\n      <th>17</th>\n      <td>浙江天正电气股份有限公司</td>\n      <td>2019-12-20</td>\n      <td>上交所</td>\n      <td>国泰君安证券股份有限公司</td>\n      <td>预先披露更新</td>\n      <td>招股说明书</td>\n    </tr>\n    <tr>\n      <th>18</th>\n      <td>浙江帅丰电器股份有限公司</td>\n      <td>2019-12-20</td>\n      <td>上交所</td>\n      <td>国信证券股份有限公司</td>\n      <td>预先披露更新</td>\n      <td>招股说明书</td>\n    </tr>\n    <tr>\n      <th>19</th>\n      <td>苏州林华医疗器械股份有限公司</td>\n      <td>2019-12-20</td>\n      <td>上交所</td>\n      <td>国泰君安证券股份有限公司</td>\n      <td>预先披露</td>\n      <td>招股说明书</td>\n    </tr>\n    <tr>\n      <th>20</th>\n      <td>共  88  页  1753  条记录 每页  20  条 第  1  页  首页 上一页 ...</td>\n      <td>共  88  页  1753  条记录 每页  20  条 第  1  页  首页 上一页 ...</td>\n      <td>共  88  页  1753  条记录 每页  20  条 第  1  页  首页 上一页 ...</td>\n      <td>共  88  页  1753  条记录 每页  20  条 第  1  页  首页 上一页 ...</td>\n      <td>共  88  页  1753  条记录 每页  20  条 第  1  页  首页 上一页 ...</td>\n      <td>共  88  页  1753  条记录 每页  20  条 第  1  页  首页 上一页 ...</td>\n    </tr>\n  </tbody>\n</table>\n</div>"
     },
     "metadata": {},
     "output_type": "execute_result",
     "execution_count": 17
    }
   ],
   "source": [
    "# read_html函数会对发起请求的url进行全局解析，对符合规则的部分，解析成DataFrame格式，并放入列表中。\n",
    "# 如果网页中存在多个标签结构，函数的返回列表长度会大于1。\n",
    "tables = pd.read_html(\"http://eid.csrc.gov.cn/ipo/infoBlock.action?pageNo=1&temp=&temp1=&blockId=1&block=1&blockType=byBlock\", encoding=\"utf-8\", header=0)\n",
    "len(tables)\n",
    "tables[2]"
   ],
   "metadata": {
    "collapsed": false,
    "pycharm": {
     "name": "#%%\n",
     "is_executing": false
    }
   }
  },
  {
   "cell_type": "code",
   "execution_count": 19,
   "outputs": [],
   "source": [
    "# 把tables[2]保存为txt文本，保存的部分包括正文、列名、索引等全部内容\n",
    "tables[2].to_csv('..\\\\data_set\\\\htmltest.txt',encoding='utf-8',sep='\\t')"
   ],
   "metadata": {
    "collapsed": false,
    "pycharm": {
     "name": "#%%\n",
     "is_executing": false
    }
   }
  },
  {
   "cell_type": "code",
   "execution_count": 20,
   "outputs": [],
   "source": [
    "# 利用iloc索引，选择我们需要保存的区域；\n",
    "# 设置index=False，不保存索引\n",
    "tables[2].iloc[0:-1,:].to_csv('..\\\\data_set\\\\htmltest02.txt',sep='\\t',index=False)"
   ],
   "metadata": {
    "collapsed": false,
    "pycharm": {
     "name": "#%%\n",
     "is_executing": false
    }
   }
  },
  {
   "cell_type": "code",
   "execution_count": 26,
   "outputs": [],
   "source": [
    "# 利用循环，更改pageNo的值，达到翻页效果；\n",
    "# 完成数据采集后，通过设置写入模式mode，进行覆盖写入或者追加写入\n",
    "# 这里以采集前5页为例\n",
    "import time\n",
    "for page in range(1,89):\n",
    "    url=\"http://eid.csrc.gov.cn/ipo/infoBlock.action?pageNo={0}&temp=&temp1=&blockId=1&block=1&blockType=byBlock\".format(page)\n",
    "    time.sleep(0.5)\n",
    "    tables=pd.read_html(url,encoding='utf-8',header=0)\n",
    "    if page==1:\n",
    "        tables[2].iloc[0:-1,0:-1].to_csv('..\\\\data_set\\\\htmltest03.txt',sep='\\t',encoding='utf-8',index=False,mode='w')\n",
    "    else:\n",
    "        tables[2].iloc[0:-1,0:-1].to_csv('..\\\\data_set\\\\htmltest03.txt',sep='\\t',encoding='utf-8',index=False,header=None,mode='a')"
   ],
   "metadata": {
    "collapsed": false,
    "pycharm": {
     "name": "#%%\n",
     "is_executing": false
    }
   }
  }
 ],
 "metadata": {
  "kernelspec": {
   "display_name": "Python 3",
   "language": "python",
   "name": "python3"
  },
  "language_info": {
   "codemirror_mode": {
    "name": "ipython",
    "version": 2
   },
   "file_extension": ".py",
   "mimetype": "text/x-python",
   "name": "python",
   "nbconvert_exporter": "python",
   "pygments_lexer": "ipython2",
   "version": "2.7.6"
  },
  "pycharm": {
   "stem_cell": {
    "cell_type": "raw",
    "source": [],
    "metadata": {
     "collapsed": false
    }
   }
  }
 },
 "nbformat": 4,
 "nbformat_minor": 0
}