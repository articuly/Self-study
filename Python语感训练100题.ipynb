{
 "cells": [
  {
   "cell_type": "code",
   "execution_count": 1,
   "metadata": {
    "collapsed": true,
    "pycharm": {
     "is_executing": false
    }
   },
   "outputs": [
    {
     "data": {
      "text/plain": "[1, 2, 3, 4, 5, 6]"
     },
     "metadata": {},
     "output_type": "execute_result",
     "execution_count": 1
    }
   ],
   "source": [
    "# 将元组 (1,2,3) 和集合 {4,5,6} 合并成一个列表。\n",
    "lst=list((1,2,3))+list({4,5,6})\n",
    "lst"
   ]
  },
  {
   "cell_type": "code",
   "execution_count": 2,
   "outputs": [
    {
     "data": {
      "text/plain": "[0, 1, 2, 3, 4, 5, 6, 7]"
     },
     "metadata": {},
     "output_type": "execute_result",
     "execution_count": 2
    }
   ],
   "source": [
    "# 在列表 [1,2,3,4,5,6] 首尾分别添加整型元素 0 和 7。\n",
    "lst.append(7)\n",
    "lst.insert(0,0)\n",
    "lst"
   ],
   "metadata": {
    "collapsed": false,
    "pycharm": {
     "name": "#%%\n",
     "is_executing": false
    }
   }
  },
  {
   "cell_type": "code",
   "execution_count": 14,
   "outputs": [
    {
     "data": {
      "text/plain": "[0, 1, 2, 3, 4, 5, 6, 7]"
     },
     "metadata": {},
     "output_type": "execute_result",
     "execution_count": 14
    }
   ],
   "source": [
    "# 反转列表 [0,1,2,3,4,5,6,7] 。\n",
    "lst.reverse()\n",
    "lst"
   ],
   "metadata": {
    "collapsed": false,
    "pycharm": {
     "name": "#%%\n",
     "is_executing": false
    }
   }
  },
  {
   "cell_type": "code",
   "execution_count": 4,
   "outputs": [
    {
     "data": {
      "text/plain": "2"
     },
     "metadata": {},
     "output_type": "execute_result",
     "execution_count": 4
    }
   ],
   "source": [
    "# 反转列表 [0,1,2,3,4,5,6,7] 后给出中元素 5 的索引号。\n",
    "lst.index(5)"
   ],
   "metadata": {
    "collapsed": false,
    "pycharm": {
     "name": "#%%\n",
     "is_executing": false
    }
   }
  },
  {
   "cell_type": "code",
   "execution_count": 5,
   "outputs": [
    {
     "data": {
      "text/plain": "5"
     },
     "metadata": {},
     "output_type": "execute_result",
     "execution_count": 5
    }
   ],
   "source": [
    "# 分别统计列表 [True,False,0,1,2] 中 True,False,0,1,2的元素个数，发现了什么？\n",
    "lst1=[True,False,0,1,2]\n",
    "len(lst1)"
   ],
   "metadata": {
    "collapsed": false,
    "pycharm": {
     "name": "#%%\n",
     "is_executing": false
    }
   }
  },
  {
   "cell_type": "code",
   "execution_count": 15,
   "outputs": [
    {
     "data": {
      "text/plain": "[True, 1, 0, None, False, 2, True]"
     },
     "metadata": {},
     "output_type": "execute_result",
     "execution_count": 15
    }
   ],
   "source": [
    "# 从列表 [True,1,0,‘x’,None,‘x’,False,2,True] 中删除元素‘x’。\n",
    "lst2=[True,1,0,'x',None,'x',False,2,True]\n",
    "lst2.remove('x')\n",
    "lst2.remove('x')\n",
    "lst2"
   ],
   "metadata": {
    "collapsed": false,
    "pycharm": {
     "name": "#%%\n",
     "is_executing": false
    }
   }
  },
  {
   "cell_type": "code",
   "execution_count": 7,
   "outputs": [
    {
     "data": {
      "text/plain": "False"
     },
     "metadata": {},
     "output_type": "execute_result",
     "execution_count": 7
    }
   ],
   "source": [
    "# 从列表 [True,1,0,‘x’,None,‘x’,False,2,True] 中删除索引号为4的元素。\n",
    "lst2.pop(4)"
   ],
   "metadata": {
    "collapsed": false,
    "pycharm": {
     "name": "#%%\n",
     "is_executing": false
    }
   }
  },
  {
   "cell_type": "code",
   "execution_count": 8,
   "outputs": [
    {
     "data": {
      "text/plain": "[0, None, 2, True]"
     },
     "metadata": {},
     "output_type": "execute_result",
     "execution_count": 8
    }
   ],
   "source": [
    "# 删除列表中索引号为奇数（或偶数）的元素。\n",
    "i=0\n",
    "while i< len(lst2):\n",
    "    lst2.pop(0)\n",
    "    i+=2\n",
    "lst2"
   ],
   "metadata": {
    "collapsed": false,
    "pycharm": {
     "name": "#%%\n",
     "is_executing": false
    }
   }
  },
  {
   "cell_type": "code",
   "execution_count": 9,
   "outputs": [
    {
     "data": {
      "text/plain": "[]"
     },
     "metadata": {},
     "output_type": "execute_result",
     "execution_count": 9
    }
   ],
   "source": [
    "# 清空列表中的所有元素。\n",
    "lst2.clear()\n",
    "lst2"
   ],
   "metadata": {
    "collapsed": false,
    "pycharm": {
     "name": "#%%\n",
     "is_executing": false
    }
   }
  },
  {
   "cell_type": "code",
   "execution_count": 16,
   "outputs": [
    {
     "data": {
      "text/plain": "[8, 7, 5, 3, 0]"
     },
     "metadata": {},
     "output_type": "execute_result",
     "execution_count": 16
    }
   ],
   "source": [
    "# 对列表 [3,0,8,5,7] 分别做升序和降序排列。\n",
    "lst3=[3,0,8,5,7]\n",
    "lst3.sort()\n",
    "lst3.sort(reverse=True)\n",
    "lst3"
   ],
   "metadata": {
    "collapsed": false,
    "pycharm": {
     "name": "#%%\n",
     "is_executing": false
    }
   }
  },
  {
   "cell_type": "code",
   "execution_count": 11,
   "outputs": [
    {
     "data": {
      "text/plain": "[1, 1, 0, 0, 0]"
     },
     "metadata": {},
     "output_type": "execute_result",
     "execution_count": 11
    }
   ],
   "source": [
    "# 将列表 [3,0,8,5,7] 中大于 5 元素置为1，其余元素置为0。\n",
    "for i in range(len(lst3)):\n",
    "    if lst3[i] >5:\n",
    "        lst3[i]=1\n",
    "    else:\n",
    "        lst3[i]=0\n",
    "lst3"
   ],
   "metadata": {
    "collapsed": false,
    "pycharm": {
     "name": "#%%\n",
     "is_executing": false
    }
   }
  },
  {
   "cell_type": "code",
   "execution_count": 12,
   "outputs": [
    {
     "name": "stdout",
     "text": [
      "(0, 'x')\n",
      "(1, 'y')\n",
      "(2, 'z')\n"
     ],
     "output_type": "stream"
    }
   ],
   "source": [
    "# 遍历列表 [‘x’,‘y’,‘z’]，打印每一个元素及其对应的索引号。\n",
    "lst4=['x','y','z']\n",
    "for i in enumerate(lst4):\n",
    "    print(i)\n",
    "    "
   ],
   "metadata": {
    "collapsed": false,
    "pycharm": {
     "name": "#%%\n",
     "is_executing": false
    }
   }
  },
  {
   "cell_type": "code",
   "execution_count": 13,
   "outputs": [
    {
     "name": "stdout",
     "text": [
      "[1, 3, 5, 7, 9]\n",
      "[0, 2, 4, 6, 8]\n"
     ],
     "output_type": "stream"
    }
   ],
   "source": [
    "# 将列表 [0, 1, 2, 3, 4, 5, 6, 7, 8, 9] 拆分为奇数组和偶数组两个列表。\n",
    "lst5=[0, 1, 2, 3, 4, 5, 6, 7, 8, 9]\n",
    "print([j for j in lst5 if j%2!=0])\n",
    "print([i for i in lst5 if i%2==0])"
   ],
   "metadata": {
    "collapsed": false,
    "pycharm": {
     "name": "#%%\n",
     "is_executing": false
    }
   }
  },
  {
   "cell_type": "code",
   "execution_count": 27,
   "outputs": [
    {
     "name": "stdout",
     "text": [
      "[[2, 8], [3, 7], [6, 5]]\n",
      "[[6, 5], [3, 7], [2, 8]]\n"
     ],
     "output_type": "stream"
    }
   ],
   "source": [
    "# 分别根据每一行的首元素和尾元素大小对二维列表 [[6, 5], [3, 7], [2, 8]] 排序。\n",
    "lst6=[[6, 5], [3, 7], [2, 8]]\n",
    "lst6.sort(key=(lambda x:x[0]))\n",
    "print(lst6)\n",
    "lst6.sort(key=(lambda x:x[1]))\n",
    "print(lst6)"
   ],
   "metadata": {
    "collapsed": false,
    "pycharm": {
     "name": "#%%\n",
     "is_executing": false
    }
   }
  },
  {
   "cell_type": "code",
   "execution_count": 28,
   "outputs": [],
   "source": [
    "# 从列表 [1,4,7,2,5,8] 索引为3的位置开始，依次插入列表 [‘x’,‘y’,‘z’] 的所有元素。\n",
    "lst7=[1,4,7,2,5,8]\n",
    "lst8=['x','y','z']\n",
    "lst7.insert(3,lst8)"
   ],
   "metadata": {
    "collapsed": false,
    "pycharm": {
     "name": "#%%\n",
     "is_executing": false
    }
   }
  },
  {
   "cell_type": "code",
   "execution_count": 30,
   "outputs": [
    {
     "data": {
      "text/plain": "[5,\n 6,\n 7,\n 8,\n 9,\n 10,\n 11,\n 12,\n 13,\n 14,\n 15,\n 16,\n 17,\n 18,\n 19,\n 20,\n 21,\n 22,\n 23,\n 24,\n 25,\n 26,\n 27,\n 28,\n 29,\n 30,\n 31,\n 32,\n 33,\n 34,\n 35,\n 36,\n 37,\n 38,\n 39,\n 40,\n 41,\n 42,\n 43,\n 44,\n 45,\n 46,\n 47,\n 48,\n 49]"
     },
     "metadata": {},
     "output_type": "execute_result",
     "execution_count": 30
    }
   ],
   "source": [
    "# 快速生成由 [5,50) 区间内的整数组成的列表。\n",
    "lst9=[i for i in range(5,50)]\n",
    "lst9"
   ],
   "metadata": {
    "collapsed": false,
    "pycharm": {
     "name": "#%%\n",
     "is_executing": false
    }
   }
  },
  {
   "cell_type": "code",
   "execution_count": null,
   "outputs": [],
   "source": [
    "# 若 a = [1,2,3]，令 b = a，执行 b[0] = 9， a[0]亦被改变。为何？如何避免？"
   ],
   "metadata": {
    "collapsed": false,
    "pycharm": {
     "name": "#%%\n"
    }
   }
  },
  {
   "cell_type": "code",
   "execution_count": 34,
   "outputs": [
    {
     "name": "stdout",
     "text": [
      "[('x', 1), ('y', 2), ('z', 3)]\n"
     ],
     "output_type": "stream"
    }
   ],
   "source": [
    "# 将列表 [‘x’,‘y’,‘z’] 和 [1,2,3] 转成 [(‘x’,1),(‘y’,2),(‘z’,3)] 的形式。\n",
    "lst10=[1,2,3]\n",
    "print(list(zip(lst8,lst10)))"
   ],
   "metadata": {
    "collapsed": false,
    "pycharm": {
     "name": "#%%\n",
     "is_executing": false
    }
   }
  },
  {
   "cell_type": "code",
   "execution_count": 58,
   "outputs": [
    {
     "data": {
      "text/plain": "['Alice', 'Beth', 'Cecil']"
     },
     "metadata": {},
     "output_type": "execute_result",
     "execution_count": 58
    }
   ],
   "source": [
    "# 以列表形式返回字典 {‘Alice’: 20, ‘Beth’: 18, ‘Cecil’: 21} 中所有的键。\n",
    "d1={'Alice': 20, 'Beth': 18, 'Cecil': 21} \n",
    "lst11=[k for k in d1.keys()]\n",
    "lst11"
   ],
   "metadata": {
    "collapsed": false,
    "pycharm": {
     "name": "#%%\n",
     "is_executing": false
    }
   }
  },
  {
   "cell_type": "code",
   "execution_count": 40,
   "outputs": [
    {
     "data": {
      "text/plain": "[20, 18, 21]"
     },
     "metadata": {},
     "output_type": "execute_result",
     "execution_count": 40
    }
   ],
   "source": [
    "# 以列表形式返回字典 {‘Alice’: 20, ‘Beth’: 18, ‘Cecil’: 21} 中所有的值。\n",
    "lst12=[v for v in d1.values()]\n",
    "lst12"
   ],
   "metadata": {
    "collapsed": false,
    "pycharm": {
     "name": "#%%\n",
     "is_executing": false
    }
   }
  },
  {
   "cell_type": "code",
   "execution_count": 42,
   "outputs": [
    {
     "name": "stdout",
     "text": [
      "(('Alice', 20), ('Beth', 18), ('Cecil', 21))\n"
     ],
     "output_type": "stream"
    }
   ],
   "source": [
    "# 以列表形式返回字典 {‘Alice’: 20, ‘Beth’: 18, ‘Cecil’: 21} 中所有键值对组成的元组。\n",
    "t1=[(k,v) for k,v in d1.items()]\n",
    "print(tuple(t1))"
   ],
   "metadata": {
    "collapsed": false,
    "pycharm": {
     "name": "#%%\n",
     "is_executing": false
    }
   }
  },
  {
   "cell_type": "code",
   "execution_count": 59,
   "outputs": [
    {
     "data": {
      "text/plain": "{'Alice': 20, 'Beth': 18, 'Cecil': 21, 'David': 19}"
     },
     "metadata": {},
     "output_type": "execute_result",
     "execution_count": 59
    }
   ],
   "source": [
    "# 向字典 {‘Alice’: 20, ‘Beth’: 18, ‘Cecil’: 21} 中追加 ‘David’:19 键值对，更新Cecil的值为17。\n",
    "d1.update({'David':19})\n",
    "d1"
   ],
   "metadata": {
    "collapsed": false,
    "pycharm": {
     "name": "#%%\n",
     "is_executing": false
    }
   }
  },
  {
   "cell_type": "code",
   "execution_count": 57,
   "outputs": [
    {
     "data": {
      "text/plain": "{}"
     },
     "metadata": {},
     "output_type": "execute_result",
     "execution_count": 57
    }
   ],
   "source": [
    "# 删除字典 {‘Alice’: 20, ‘Beth’: 18, ‘Cecil’: 21} 中的Beth键后，清空该字典。\n",
    "# d1.pop('Beth')\n",
    "# d1.clear()\n",
    "# d1"
   ],
   "metadata": {
    "collapsed": false,
    "pycharm": {
     "name": "#%%\n",
     "is_executing": false
    }
   }
  },
  {
   "cell_type": "code",
   "execution_count": 62,
   "outputs": [
    {
     "data": {
      "text/plain": "20"
     },
     "metadata": {},
     "output_type": "execute_result",
     "execution_count": 62
    }
   ],
   "source": [
    "# 判断 David 和 Alice 是否在字典 {‘Alice’: 20, ‘Beth’: 18, ‘Cecil’: 21} 中。\n",
    "d1.get('David')\n",
    "d1.get('Alice')\n",
    "# 遍历字典 {‘Alice’: 20, ‘Beth’: 18, ‘Cecil’: 21}，打印键值对。\n",
    "# 若 a = dict()，令 b = a，执行 b.update({‘x’:1})， a亦被改变。为何？如何避免？\n",
    "# 以列表 [‘A’,‘B’,‘C’,‘D’,‘E’,‘F’,‘G’,‘H’] 中的每一个元素为键，默认值都是0，创建一个字典。\n",
    "# 将二维结构 [[‘a’,1],[‘b’,2]] 和 ((‘x’,3),(‘y’,4)) 转成字典。\n",
    "# 将元组 (1,2) 和 (3,4) 合并成一个元组。\n",
    "# 将空间坐标元组 (1,2,3) 的三个元素解包对应到变量 x,y,z。\n",
    "# 返回元组 (‘Alice’,‘Beth’,‘Cecil’) 中 ‘Cecil’ 元素的索引号。\n",
    "# 返回元组 (2,5,3,2,4) 中元素 2 的个数。\n",
    "# 判断 ‘Cecil’ 是否在元组 (‘Alice’,‘Beth’,‘Cecil’) 中。\n",
    "# 返回在元组 (2,5,3,7) 索引号为2的位置插入元素 9 之后的新元组。\n",
    "# 创建一个空集合，增加 {‘x’,‘y’,‘z’} 三个元素。\n",
    "# 删除集合 {‘x’,‘y’,‘z’} 中的 ‘z’ 元素，增加元素 ‘w’，然后清空整个集合。\n",
    "# 返回集合 {‘A’,‘D’,‘B’} 中未出现在集合 {‘D’,‘E’,‘C’} 中的元素（差集）。\n",
    "# 返回两个集合 {‘A’,‘D’,‘B’} 和 {‘D’,‘E’,‘C’} 的并集。\n",
    "# 返回两个集合 {‘A’,‘D’,‘B’} 和 {‘D’,‘E’,‘C’} 的交集。\n",
    "# 返回两个集合 {‘A’,‘D’,‘B’} 和 {‘D’,‘E’,‘C’} 未重复的元素的集合。\n",
    "# 判断两个集合 {‘A’,‘D’,‘B’} 和 {‘D’,‘E’,‘C’} 是否有重复元素。\n",
    "# 判断集合 {‘A’,‘C’} 是否是集合 {‘D’,‘C’,‘E’,‘A’} 的子集。\n",
    "# 去除数组 [1,2,5,2,3,4,5,‘x’,4,‘x’] 中的重复元素。\n",
    "# 返回字符串 ‘abCdEfg’ 的全部大写、全部小写和大小写互换形式。\n",
    "# 判断字符串 ‘abCdEfg’ 是否首字母大写，字母是否全部小写，字母是否全部大写。\n",
    "# 返回字符串 ‘this is python’ 首字母大写以及字符串内每个单词首字母大写形式。\n",
    "# 判断字符串 ‘this is python’ 是否以 ‘this’ 开头，又是否以 ‘python’ 结尾。\n",
    "# 返回字符串 ‘this is python’ 中 ‘is’ 的出现次数。\n",
    "# 返回字符串 ‘this is python’ 中 ‘is’ 首次出现和最后一次出现的位置。\n",
    "# 将字符串 ‘this is python’ 切片成3个单词。\n",
    "# 返回字符串 ‘blog.csdn.net/xufive/article/details/102946961’ 按路径分隔符切片的结果。\n",
    "# 将字符串 ‘2.72, 5, 7, 3.14’ 以半角逗号切片后，再将各个元素转成浮点型或整形。\n",
    "# 判断字符串 ‘adS12K56’ 是否完全为字母数字，是否全为数字，是否全为字母，是否全为ASCII码。\n",
    "# 将字符串 ‘there is python’ 中的 ‘is’ 替换为 ‘are’。\n",
    "# 清除字符串 ‘\\t python \\n’ 左侧、右侧，以及左右两侧的空白字符。\n",
    "# 将三个全英文字符串（比如，‘ok’, ‘hello’, ‘thank you’）分行打印，实现左对齐、右对齐和居中对齐效果。\n",
    "# 将三个字符串（比如，‘Hello, 我是David’, ‘OK, 好’, ‘很高兴认识你’）分行打印，实现左对齐、右对齐和居中效果。\n",
    "# 将三个字符串 ‘15’, ‘127’, ‘65535’ 左侧补0成同样长度。\n",
    "# 提取 url 字符串 ‘https://blog.csdn.net/xufive’ 中的协议名。\n",
    "# 将列表 [‘a’,‘b’,‘c’] 中各个元素用’|'连接成一个字符串。\n",
    "# 将字符串 ‘abc’ 相邻的两个字母之间加上半角逗号，生成新的字符串。\n",
    "# 从键盘输入手机号码，输出形如 ‘Mobile: 186 6677 7788’ 的字符串。\n",
    "# 从键盘输入年月日时分秒，输出形如 ‘2019-05-01 12:00:00’ 的字符串。\n",
    "# 给定两个浮点数 3.1415926 和 2.7182818，格式化输出字符串 ‘pi = 3.1416, e = 2.7183’。\n",
    "# 将 0.00774592 和 356800000 格式化输出为科学计数法字符串。\n",
    "# 将十进制整数 240 格式化为八进制和十六进制的字符串。\n",
    "# 将十进制整数 240 转为二进制、八进制、十六进制的字符串。\n",
    "# 将字符串 ‘10100’ 按照二进制、八进制、十进制、十六进制转为整数。\n",
    "# 求二进制整数1010、八进制整数65、十进制整数52、十六进制整数b4的和。\n",
    "# 将列表 [0,1,2,3.14,‘x’,None,’’,list(),{5}] 中各个元素转为布尔型。\n",
    "# 返回字符 ‘a’ 和 ‘A’ 的ASCII编码值。\n",
    "# 返回ASCII编码值为 57 和 122 的字符。\n",
    "# 将二维列表 [[0.468,0.975,0.446],[0.718,0.826,0.359]] 写成名为 csv_data 的 csv 格式的文件，并尝试用 excel 打开它。\n",
    "# 从 csv_data.csv 文件中读出二维列表。\n",
    "# 向 csv_data.csv 文件追加二维列表 [[1.468,1.975,1.446],[1.718,1.826,1.359]]，然后读出所有数据。\n",
    "# 交换变量 x 和 y 的值。\n",
    "# 判断给定的参数 x 是否是整形。\n",
    "# 判断给定的参数 x 是否为列表或元组。\n",
    "# 判断 ‘https://blog.csdn.net’ 是否以 ‘http://’ 或 ‘https://’ 开头。若是，则返回 ‘http’ 或 ‘https’；否则，返回None。\n",
    "# 判断 ‘https://blog.csdn.net’ 是否以 ‘.com’ 或 ‘.net’ 结束。若是，则返回 ‘com’ 或 ‘net’；否则，返回None。\n",
    "# 将列表 [3,‘a’,5.2,4,{},9,[]] 中 大于3的整数或浮点数置为1，其余置为0。\n",
    "# a,b 是两个数字，返回其中较小者或最大者。\n",
    "# 找到列表 [8,5,2,4,3,6,5,5,1,4,5] 中出现最频繁的数字以及出现的次数。\n",
    "# 将二维列表 [[1], [‘a’,‘b’], [2.3, 4.5, 6.7]] 转为 一维列表。\n",
    "# 将等长的键列表和值列表转为字典。\n",
    "# 使用链状比较操作符重写逻辑表达式 a > 10 and a < 20。\n",
    "# 写一个函数，以0.1秒的间隔不换行打印30次由函数参数传入的字符，实现类似打字机的效果。\n",
    "# 数字列表求和。\n",
    "# 返回数字列表中的最大值和最小值。\n",
    "# 计算 5 的 3.5 方和 3 的立方根。\n",
    "# 对 3.1415926 四舍五入，保留小数点后5位。\n",
    "# 判断两个对象是在内存中是否是同一个。\n",
    "# 返回给定对象的属性和方法。\n",
    "# 计算字符串表达式 ‘(2+3)*5’ 的值。\n",
    "# 实现字符串 ‘x={“name”:“David”, “age”:18}’ 包含的代码功能。\n",
    "# 使用 map 函数求列表 [2,3,4,5] 中每个元素的立方根。\n",
    "# 使用 sys.stdin.readline() 写一个和 input() 函数功能完全相同的函数。\n",
    "# 使用二维列表描述9x9围棋局面，'w’表示白色棋子，‘b’表示黑色棋子，’-'表示无子，打印成下图左所示的文本棋盘。\n",
    "# 对于9x9围棋盘，用a-i标识各行，用1-9标识各列，设计函数go()，输入位置和颜色，即输出文本棋盘，模拟围棋对弈的过程。\n",
    "# 下图中是国际跳棋的初始局面，10x10的棋盘上只有50个深色格子可以落子，'w’表示白色棋子，‘b’表示黑色棋子，’-'表示无子，字符串 phase = ‘b’*20 + ‘-’*10 + ‘w’*20 表示下图中的局面，请将 phase 打印成下图右所示的样子。\n",
    "\n"
   ],
   "metadata": {
    "collapsed": false,
    "pycharm": {
     "name": "#%%\n",
     "is_executing": false
    }
   }
  }
 ],
 "metadata": {
  "kernelspec": {
   "display_name": "Python 3",
   "language": "python",
   "name": "python3"
  },
  "language_info": {
   "codemirror_mode": {
    "name": "ipython",
    "version": 2
   },
   "file_extension": ".py",
   "mimetype": "text/x-python",
   "name": "python",
   "nbconvert_exporter": "python",
   "pygments_lexer": "ipython2",
   "version": "2.7.6"
  },
  "pycharm": {
   "stem_cell": {
    "cell_type": "raw",
    "source": [],
    "metadata": {
     "collapsed": false
    }
   }
  }
 },
 "nbformat": 4,
 "nbformat_minor": 0
}