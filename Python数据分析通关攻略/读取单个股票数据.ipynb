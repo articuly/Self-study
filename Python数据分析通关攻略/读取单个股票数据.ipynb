{
 "cells": [
  {
   "cell_type": "code",
   "execution_count": 1,
   "metadata": {
    "collapsed": true,
    "pycharm": {
     "is_executing": false
    }
   },
   "outputs": [
    {
     "data": {
      "text/plain": "(4094, 8)"
     },
     "metadata": {},
     "output_type": "execute_result",
     "execution_count": 1
    }
   ],
   "source": [
    "import pandas as pd\n",
    "file=r\"D:\\Programing\\python_projects\\Self-study\\data_set\\3-3 600519.csv\"\n",
    "df_gzmt=pd.read_csv(file,encoding='utf-8')\n",
    "df_gzmt.shape"
   ]
  },
  {
   "cell_type": "code",
   "execution_count": 13,
   "outputs": [
    {
     "name": "stdout",
     "text": [
      "<class 'pandas.core.frame.DataFrame'>\n",
      "RangeIndex: 4094 entries, 0 to 4093\n",
      "Data columns (total 12 columns):\n",
      "day           4094 non-null object\n",
      "STOCK_CODE    4094 non-null int64\n",
      "open          4094 non-null float64\n",
      "close         4094 non-null float64\n",
      "maximum       4094 non-null float64\n",
      "minimum       4094 non-null float64\n",
      "volume        4094 non-null int64\n",
      "TURNOVER      4094 non-null int64\n",
      "place         4094 non-null int64\n",
      "code          4094 non-null int64\n",
      "m_increase    4094 non-null float64\n",
      "price_mean    4094 non-null float64\n",
      "dtypes: float64(6), int64(5), object(1)\n",
      "memory usage: 383.9+ KB\n"
     ],
     "output_type": "stream"
    }
   ],
   "source": [
    "# 通过info方法，快速查看具体的字段以及主要字段的类型、存在空值情况、数组表单消耗内存的情况等\n",
    "df_gzmt.info()"
   ],
   "metadata": {
    "collapsed": false,
    "pycharm": {
     "name": "#%%\n",
     "is_executing": false
    }
   }
  },
  {
   "cell_type": "code",
   "execution_count": 3,
   "outputs": [
    {
     "data": {
      "text/plain": "array([6005191], dtype=int64)"
     },
     "metadata": {},
     "output_type": "execute_result",
     "execution_count": 3
    }
   ],
   "source": [
    "# 利用unique函数，查看字段值的唯一性指标\n",
    "df_gzmt['STOCK_CODE'].unique()"
   ],
   "metadata": {
    "collapsed": false,
    "pycharm": {
     "name": "#%%\n",
     "is_executing": false
    }
   }
  },
  {
   "cell_type": "code",
   "execution_count": 4,
   "outputs": [
    {
     "data": {
      "text/plain": "       STOCK_CODE         open        close      maximum      minimum  \\\ncount      4094.0  4094.000000  4094.000000  4094.000000  4094.000000   \nmean    6005191.0   182.161910   182.435230   184.879680   179.801353   \nstd           0.0   165.857882   165.994905   168.082099   163.752065   \nmin     6005191.0    20.900000    20.880000    21.000000    20.710000   \n25%     6005191.0    47.405000    47.482500    48.222500    46.705000   \n50%     6005191.0   159.930000   159.980000   161.910000   157.875000   \n75%     6005191.0   208.500000   209.457500   212.175000   205.945000   \nmax     6005191.0   800.000000   799.190000   803.500000   788.880000   \n\n              volume      TURNOVER  \ncount    4094.000000  4.094000e+03  \nmean    27092.525892  6.487986e+08  \nstd     24623.472099  9.550262e+08  \nmin       238.000000  1.421413e+06  \n25%     10186.750000  6.203505e+07  \n50%     22491.000000  3.727192e+08  \n75%     36759.500000  7.486596e+08  \nmax    406318.000000  1.066339e+10  ",
      "text/html": "<div>\n<style scoped>\n    .dataframe tbody tr th:only-of-type {\n        vertical-align: middle;\n    }\n\n    .dataframe tbody tr th {\n        vertical-align: top;\n    }\n\n    .dataframe thead th {\n        text-align: right;\n    }\n</style>\n<table border=\"1\" class=\"dataframe\">\n  <thead>\n    <tr style=\"text-align: right;\">\n      <th></th>\n      <th>STOCK_CODE</th>\n      <th>open</th>\n      <th>close</th>\n      <th>maximum</th>\n      <th>minimum</th>\n      <th>volume</th>\n      <th>TURNOVER</th>\n    </tr>\n  </thead>\n  <tbody>\n    <tr>\n      <th>count</th>\n      <td>4094.0</td>\n      <td>4094.000000</td>\n      <td>4094.000000</td>\n      <td>4094.000000</td>\n      <td>4094.000000</td>\n      <td>4094.000000</td>\n      <td>4.094000e+03</td>\n    </tr>\n    <tr>\n      <th>mean</th>\n      <td>6005191.0</td>\n      <td>182.161910</td>\n      <td>182.435230</td>\n      <td>184.879680</td>\n      <td>179.801353</td>\n      <td>27092.525892</td>\n      <td>6.487986e+08</td>\n    </tr>\n    <tr>\n      <th>std</th>\n      <td>0.0</td>\n      <td>165.857882</td>\n      <td>165.994905</td>\n      <td>168.082099</td>\n      <td>163.752065</td>\n      <td>24623.472099</td>\n      <td>9.550262e+08</td>\n    </tr>\n    <tr>\n      <th>min</th>\n      <td>6005191.0</td>\n      <td>20.900000</td>\n      <td>20.880000</td>\n      <td>21.000000</td>\n      <td>20.710000</td>\n      <td>238.000000</td>\n      <td>1.421413e+06</td>\n    </tr>\n    <tr>\n      <th>25%</th>\n      <td>6005191.0</td>\n      <td>47.405000</td>\n      <td>47.482500</td>\n      <td>48.222500</td>\n      <td>46.705000</td>\n      <td>10186.750000</td>\n      <td>6.203505e+07</td>\n    </tr>\n    <tr>\n      <th>50%</th>\n      <td>6005191.0</td>\n      <td>159.930000</td>\n      <td>159.980000</td>\n      <td>161.910000</td>\n      <td>157.875000</td>\n      <td>22491.000000</td>\n      <td>3.727192e+08</td>\n    </tr>\n    <tr>\n      <th>75%</th>\n      <td>6005191.0</td>\n      <td>208.500000</td>\n      <td>209.457500</td>\n      <td>212.175000</td>\n      <td>205.945000</td>\n      <td>36759.500000</td>\n      <td>7.486596e+08</td>\n    </tr>\n    <tr>\n      <th>max</th>\n      <td>6005191.0</td>\n      <td>800.000000</td>\n      <td>799.190000</td>\n      <td>803.500000</td>\n      <td>788.880000</td>\n      <td>406318.000000</td>\n      <td>1.066339e+10</td>\n    </tr>\n  </tbody>\n</table>\n</div>"
     },
     "metadata": {},
     "output_type": "execute_result",
     "execution_count": 4
    }
   ],
   "source": [
    "# 通过describe方法，快速查看多字段的统计信息，包含最大最小、均值、标准差等信息\n",
    "df_gzmt.describe()"
   ],
   "metadata": {
    "collapsed": false,
    "pycharm": {
     "name": "#%%\n",
     "is_executing": false
    }
   }
  },
  {
   "cell_type": "code",
   "execution_count": 5,
   "outputs": [
    {
     "data": {
      "text/plain": "             day  STOCK_CODE    open   close  maximum  minimum  volume  \\\n0     2001-08-27     6005191   34.51   35.55    37.78    32.85  406318   \n1     2001-08-28     6005191   34.99   36.86    37.00    34.61  129647   \n2     2001-08-29     6005191   36.98   36.38    37.00    36.10   53252   \n3     2001-08-30     6005191   36.28   37.10    37.51    36.00   48013   \n4     2001-08-31     6005191   37.15   37.01    37.62    36.80   23231   \n...          ...         ...     ...     ...      ...      ...     ...   \n4089  2018-10-29     6005191  549.09  549.09   549.09   549.09   49076   \n4090  2018-10-30     6005191  510.00  524.00   543.00   509.02  204397   \n4091  2018-10-31     6005191  527.00  548.90   555.00   522.00   96885   \n4092  2018-11-01     6005191  555.00  563.00   585.50   551.25   98107   \n4093  2018-11-02     6005191  585.00  599.90   600.00   572.24   89157   \n\n         TURNOVER  place    code  \n0      1410347008      1  600519  \n1       463463008      1  600519  \n2       194689000      1  600519  \n3       177558000      1  600519  \n4        86231000      1  600519  \n...           ...    ...     ...  \n4089   2694714080      1  600519  \n4090  10663392512      1  600519  \n4091   5239853056      1  600519  \n4092   5581027328      1  600519  \n4093   5227695104      1  600519  \n\n[4094 rows x 10 columns]",
      "text/html": "<div>\n<style scoped>\n    .dataframe tbody tr th:only-of-type {\n        vertical-align: middle;\n    }\n\n    .dataframe tbody tr th {\n        vertical-align: top;\n    }\n\n    .dataframe thead th {\n        text-align: right;\n    }\n</style>\n<table border=\"1\" class=\"dataframe\">\n  <thead>\n    <tr style=\"text-align: right;\">\n      <th></th>\n      <th>day</th>\n      <th>STOCK_CODE</th>\n      <th>open</th>\n      <th>close</th>\n      <th>maximum</th>\n      <th>minimum</th>\n      <th>volume</th>\n      <th>TURNOVER</th>\n      <th>place</th>\n      <th>code</th>\n    </tr>\n  </thead>\n  <tbody>\n    <tr>\n      <th>0</th>\n      <td>2001-08-27</td>\n      <td>6005191</td>\n      <td>34.51</td>\n      <td>35.55</td>\n      <td>37.78</td>\n      <td>32.85</td>\n      <td>406318</td>\n      <td>1410347008</td>\n      <td>1</td>\n      <td>600519</td>\n    </tr>\n    <tr>\n      <th>1</th>\n      <td>2001-08-28</td>\n      <td>6005191</td>\n      <td>34.99</td>\n      <td>36.86</td>\n      <td>37.00</td>\n      <td>34.61</td>\n      <td>129647</td>\n      <td>463463008</td>\n      <td>1</td>\n      <td>600519</td>\n    </tr>\n    <tr>\n      <th>2</th>\n      <td>2001-08-29</td>\n      <td>6005191</td>\n      <td>36.98</td>\n      <td>36.38</td>\n      <td>37.00</td>\n      <td>36.10</td>\n      <td>53252</td>\n      <td>194689000</td>\n      <td>1</td>\n      <td>600519</td>\n    </tr>\n    <tr>\n      <th>3</th>\n      <td>2001-08-30</td>\n      <td>6005191</td>\n      <td>36.28</td>\n      <td>37.10</td>\n      <td>37.51</td>\n      <td>36.00</td>\n      <td>48013</td>\n      <td>177558000</td>\n      <td>1</td>\n      <td>600519</td>\n    </tr>\n    <tr>\n      <th>4</th>\n      <td>2001-08-31</td>\n      <td>6005191</td>\n      <td>37.15</td>\n      <td>37.01</td>\n      <td>37.62</td>\n      <td>36.80</td>\n      <td>23231</td>\n      <td>86231000</td>\n      <td>1</td>\n      <td>600519</td>\n    </tr>\n    <tr>\n      <th>...</th>\n      <td>...</td>\n      <td>...</td>\n      <td>...</td>\n      <td>...</td>\n      <td>...</td>\n      <td>...</td>\n      <td>...</td>\n      <td>...</td>\n      <td>...</td>\n      <td>...</td>\n    </tr>\n    <tr>\n      <th>4089</th>\n      <td>2018-10-29</td>\n      <td>6005191</td>\n      <td>549.09</td>\n      <td>549.09</td>\n      <td>549.09</td>\n      <td>549.09</td>\n      <td>49076</td>\n      <td>2694714080</td>\n      <td>1</td>\n      <td>600519</td>\n    </tr>\n    <tr>\n      <th>4090</th>\n      <td>2018-10-30</td>\n      <td>6005191</td>\n      <td>510.00</td>\n      <td>524.00</td>\n      <td>543.00</td>\n      <td>509.02</td>\n      <td>204397</td>\n      <td>10663392512</td>\n      <td>1</td>\n      <td>600519</td>\n    </tr>\n    <tr>\n      <th>4091</th>\n      <td>2018-10-31</td>\n      <td>6005191</td>\n      <td>527.00</td>\n      <td>548.90</td>\n      <td>555.00</td>\n      <td>522.00</td>\n      <td>96885</td>\n      <td>5239853056</td>\n      <td>1</td>\n      <td>600519</td>\n    </tr>\n    <tr>\n      <th>4092</th>\n      <td>2018-11-01</td>\n      <td>6005191</td>\n      <td>555.00</td>\n      <td>563.00</td>\n      <td>585.50</td>\n      <td>551.25</td>\n      <td>98107</td>\n      <td>5581027328</td>\n      <td>1</td>\n      <td>600519</td>\n    </tr>\n    <tr>\n      <th>4093</th>\n      <td>2018-11-02</td>\n      <td>6005191</td>\n      <td>585.00</td>\n      <td>599.90</td>\n      <td>600.00</td>\n      <td>572.24</td>\n      <td>89157</td>\n      <td>5227695104</td>\n      <td>1</td>\n      <td>600519</td>\n    </tr>\n  </tbody>\n</table>\n<p>4094 rows × 10 columns</p>\n</div>"
     },
     "metadata": {},
     "output_type": "execute_result",
     "execution_count": 5
    }
   ],
   "source": [
    "# 提取STOCK_CODE的最后一位，1表示在上交所上市\n",
    "df_gzmt['place']=df_gzmt['STOCK_CODE']%10\n",
    "df_gzmt['code']=df_gzmt['STOCK_CODE']//10\n",
    "df_gzmt"
   ],
   "metadata": {
    "collapsed": false,
    "pycharm": {
     "name": "#%%\n",
     "is_executing": false
    }
   }
  },
  {
   "cell_type": "code",
   "execution_count": 6,
   "outputs": [
    {
     "data": {
      "text/plain": "             day  STOCK_CODE    open   close  maximum  minimum  volume  \\\n0     2001-08-27     6005191   34.51   35.55    37.78    32.85  406318   \n1     2001-08-28     6005191   34.99   36.86    37.00    34.61  129647   \n2     2001-08-29     6005191   36.98   36.38    37.00    36.10   53252   \n3     2001-08-30     6005191   36.28   37.10    37.51    36.00   48013   \n4     2001-08-31     6005191   37.15   37.01    37.62    36.80   23231   \n...          ...         ...     ...     ...      ...      ...     ...   \n4089  2018-10-29     6005191  549.09  549.09   549.09   549.09   49076   \n4090  2018-10-30     6005191  510.00  524.00   543.00   509.02  204397   \n4091  2018-10-31     6005191  527.00  548.90   555.00   522.00   96885   \n4092  2018-11-01     6005191  555.00  563.00   585.50   551.25   98107   \n4093  2018-11-02     6005191  585.00  599.90   600.00   572.24   89157   \n\n         TURNOVER  place    code  m_increase    price_mean  \n0      1410347008      1  600519        1.04   3471.042405  \n1       463463008      1  600519        1.87   3574.807038  \n2       194689000      1  600519       -0.60   3655.994141  \n3       177558000      1  600519        0.82   3698.123425  \n4        86231000      1  600519       -0.14   3711.893590  \n...           ...    ...     ...         ...           ...  \n4089   2694714080      1  600519        0.00  54908.999918  \n4090  10663392512      1  600519       14.00  52170.005000  \n4091   5239853056      1  600519       21.90  54083.222955  \n4092   5581027328      1  600519        8.00  56887.146972  \n4093   5227695104      1  600519       14.90  58634.712967  \n\n[4094 rows x 12 columns]",
      "text/html": "<div>\n<style scoped>\n    .dataframe tbody tr th:only-of-type {\n        vertical-align: middle;\n    }\n\n    .dataframe tbody tr th {\n        vertical-align: top;\n    }\n\n    .dataframe thead th {\n        text-align: right;\n    }\n</style>\n<table border=\"1\" class=\"dataframe\">\n  <thead>\n    <tr style=\"text-align: right;\">\n      <th></th>\n      <th>day</th>\n      <th>STOCK_CODE</th>\n      <th>open</th>\n      <th>close</th>\n      <th>maximum</th>\n      <th>minimum</th>\n      <th>volume</th>\n      <th>TURNOVER</th>\n      <th>place</th>\n      <th>code</th>\n      <th>m_increase</th>\n      <th>price_mean</th>\n    </tr>\n  </thead>\n  <tbody>\n    <tr>\n      <th>0</th>\n      <td>2001-08-27</td>\n      <td>6005191</td>\n      <td>34.51</td>\n      <td>35.55</td>\n      <td>37.78</td>\n      <td>32.85</td>\n      <td>406318</td>\n      <td>1410347008</td>\n      <td>1</td>\n      <td>600519</td>\n      <td>1.04</td>\n      <td>3471.042405</td>\n    </tr>\n    <tr>\n      <th>1</th>\n      <td>2001-08-28</td>\n      <td>6005191</td>\n      <td>34.99</td>\n      <td>36.86</td>\n      <td>37.00</td>\n      <td>34.61</td>\n      <td>129647</td>\n      <td>463463008</td>\n      <td>1</td>\n      <td>600519</td>\n      <td>1.87</td>\n      <td>3574.807038</td>\n    </tr>\n    <tr>\n      <th>2</th>\n      <td>2001-08-29</td>\n      <td>6005191</td>\n      <td>36.98</td>\n      <td>36.38</td>\n      <td>37.00</td>\n      <td>36.10</td>\n      <td>53252</td>\n      <td>194689000</td>\n      <td>1</td>\n      <td>600519</td>\n      <td>-0.60</td>\n      <td>3655.994141</td>\n    </tr>\n    <tr>\n      <th>3</th>\n      <td>2001-08-30</td>\n      <td>6005191</td>\n      <td>36.28</td>\n      <td>37.10</td>\n      <td>37.51</td>\n      <td>36.00</td>\n      <td>48013</td>\n      <td>177558000</td>\n      <td>1</td>\n      <td>600519</td>\n      <td>0.82</td>\n      <td>3698.123425</td>\n    </tr>\n    <tr>\n      <th>4</th>\n      <td>2001-08-31</td>\n      <td>6005191</td>\n      <td>37.15</td>\n      <td>37.01</td>\n      <td>37.62</td>\n      <td>36.80</td>\n      <td>23231</td>\n      <td>86231000</td>\n      <td>1</td>\n      <td>600519</td>\n      <td>-0.14</td>\n      <td>3711.893590</td>\n    </tr>\n    <tr>\n      <th>...</th>\n      <td>...</td>\n      <td>...</td>\n      <td>...</td>\n      <td>...</td>\n      <td>...</td>\n      <td>...</td>\n      <td>...</td>\n      <td>...</td>\n      <td>...</td>\n      <td>...</td>\n      <td>...</td>\n      <td>...</td>\n    </tr>\n    <tr>\n      <th>4089</th>\n      <td>2018-10-29</td>\n      <td>6005191</td>\n      <td>549.09</td>\n      <td>549.09</td>\n      <td>549.09</td>\n      <td>549.09</td>\n      <td>49076</td>\n      <td>2694714080</td>\n      <td>1</td>\n      <td>600519</td>\n      <td>0.00</td>\n      <td>54908.999918</td>\n    </tr>\n    <tr>\n      <th>4090</th>\n      <td>2018-10-30</td>\n      <td>6005191</td>\n      <td>510.00</td>\n      <td>524.00</td>\n      <td>543.00</td>\n      <td>509.02</td>\n      <td>204397</td>\n      <td>10663392512</td>\n      <td>1</td>\n      <td>600519</td>\n      <td>14.00</td>\n      <td>52170.005000</td>\n    </tr>\n    <tr>\n      <th>4091</th>\n      <td>2018-10-31</td>\n      <td>6005191</td>\n      <td>527.00</td>\n      <td>548.90</td>\n      <td>555.00</td>\n      <td>522.00</td>\n      <td>96885</td>\n      <td>5239853056</td>\n      <td>1</td>\n      <td>600519</td>\n      <td>21.90</td>\n      <td>54083.222955</td>\n    </tr>\n    <tr>\n      <th>4092</th>\n      <td>2018-11-01</td>\n      <td>6005191</td>\n      <td>555.00</td>\n      <td>563.00</td>\n      <td>585.50</td>\n      <td>551.25</td>\n      <td>98107</td>\n      <td>5581027328</td>\n      <td>1</td>\n      <td>600519</td>\n      <td>8.00</td>\n      <td>56887.146972</td>\n    </tr>\n    <tr>\n      <th>4093</th>\n      <td>2018-11-02</td>\n      <td>6005191</td>\n      <td>585.00</td>\n      <td>599.90</td>\n      <td>600.00</td>\n      <td>572.24</td>\n      <td>89157</td>\n      <td>5227695104</td>\n      <td>1</td>\n      <td>600519</td>\n      <td>14.90</td>\n      <td>58634.712967</td>\n    </tr>\n  </tbody>\n</table>\n<p>4094 rows × 12 columns</p>\n</div>"
     },
     "metadata": {},
     "output_type": "execute_result",
     "execution_count": 6
    }
   ],
   "source": [
    "# 计算涨幅，并赋值给新增列m_increase\n",
    "df_gzmt['m_increase']=df_gzmt['close']-df_gzmt['open']\n",
    "# 计算平均成交价，并赋值给price_mean\n",
    "df_gzmt['price_mean']=df_gzmt['TURNOVER']/df_gzmt['volume']\n",
    "df_gzmt"
   ],
   "metadata": {
    "collapsed": false,
    "pycharm": {
     "name": "#%%\n",
     "is_executing": false
    }
   }
  },
  {
   "cell_type": "code",
   "execution_count": 7,
   "outputs": [
    {
     "data": {
      "text/plain": "0        True\n1        True\n2        True\n3        True\n4        True\n        ...  \n4089    False\n4090    False\n4091    False\n4092    False\n4093    False\nName: close, Length: 4094, dtype: bool"
     },
     "metadata": {},
     "output_type": "execute_result",
     "execution_count": 7
    }
   ],
   "source": [
    "# 查看收盘价不高于500的数据\n",
    "df_gzmt['close']<=500"
   ],
   "metadata": {
    "collapsed": false,
    "pycharm": {
     "name": "#%%\n",
     "is_executing": false
    }
   }
  },
  {
   "cell_type": "code",
   "execution_count": 8,
   "outputs": [
    {
     "data": {
      "text/plain": "             day  STOCK_CODE    open   close  maximum  minimum  volume  \\\n3896  2018-01-09     6005191  752.21  782.52   783.00   752.21   64592   \n3897  2018-01-10     6005191  785.00  785.71   788.88   773.48   47714   \n3899  2018-01-12     6005191  773.77  788.42   788.80   767.02   45988   \n3900  2018-01-15     6005191  793.46  785.37   799.06   779.02   52473   \n3991  2018-06-04     6005191  752.35  781.97   782.90   745.88   73806   \n3992  2018-06-05     6005191  786.50  788.05   794.70   777.23   52630   \n3993  2018-06-06     6005191  788.00  785.75   800.95   782.30   48969   \n3994  2018-06-07     6005191  789.98  780.97   795.55   778.90   39168   \n3997  2018-06-12     6005191  778.00  799.19   803.50   776.50   55287   \n3998  2018-06-13     6005191  800.00  790.33   802.62   788.88   35244   \n3999  2018-06-14     6005191  790.00  786.13   793.80   775.18   36160   \n\n        TURNOVER  place    code  m_increase    price_mean  \n3896  5001164544      1  600519       30.31  77426.996284  \n3897  3731993152      1  600519        0.71  78215.893700  \n3899  3577281776      1  600519       14.65  77787.287466  \n3900  4136645488      1  600519       -8.09  78833.790483  \n3991  5697540352      1  600519       29.62  77196.167683  \n3992  4136578576      1  600519        1.55  78597.350865  \n3993  3870616720      1  600519       -2.25  79042.184239  \n3994  3078137472      1  600519       -9.01  78588.068627  \n3997  4385043200      1  600519       21.19  79314.182358  \n3998  2803441680      1  600519       -9.67  79543.799796  \n3999  2830514224      1  600519       -3.87  78277.495133  ",
      "text/html": "<div>\n<style scoped>\n    .dataframe tbody tr th:only-of-type {\n        vertical-align: middle;\n    }\n\n    .dataframe tbody tr th {\n        vertical-align: top;\n    }\n\n    .dataframe thead th {\n        text-align: right;\n    }\n</style>\n<table border=\"1\" class=\"dataframe\">\n  <thead>\n    <tr style=\"text-align: right;\">\n      <th></th>\n      <th>day</th>\n      <th>STOCK_CODE</th>\n      <th>open</th>\n      <th>close</th>\n      <th>maximum</th>\n      <th>minimum</th>\n      <th>volume</th>\n      <th>TURNOVER</th>\n      <th>place</th>\n      <th>code</th>\n      <th>m_increase</th>\n      <th>price_mean</th>\n    </tr>\n  </thead>\n  <tbody>\n    <tr>\n      <th>3896</th>\n      <td>2018-01-09</td>\n      <td>6005191</td>\n      <td>752.21</td>\n      <td>782.52</td>\n      <td>783.00</td>\n      <td>752.21</td>\n      <td>64592</td>\n      <td>5001164544</td>\n      <td>1</td>\n      <td>600519</td>\n      <td>30.31</td>\n      <td>77426.996284</td>\n    </tr>\n    <tr>\n      <th>3897</th>\n      <td>2018-01-10</td>\n      <td>6005191</td>\n      <td>785.00</td>\n      <td>785.71</td>\n      <td>788.88</td>\n      <td>773.48</td>\n      <td>47714</td>\n      <td>3731993152</td>\n      <td>1</td>\n      <td>600519</td>\n      <td>0.71</td>\n      <td>78215.893700</td>\n    </tr>\n    <tr>\n      <th>3899</th>\n      <td>2018-01-12</td>\n      <td>6005191</td>\n      <td>773.77</td>\n      <td>788.42</td>\n      <td>788.80</td>\n      <td>767.02</td>\n      <td>45988</td>\n      <td>3577281776</td>\n      <td>1</td>\n      <td>600519</td>\n      <td>14.65</td>\n      <td>77787.287466</td>\n    </tr>\n    <tr>\n      <th>3900</th>\n      <td>2018-01-15</td>\n      <td>6005191</td>\n      <td>793.46</td>\n      <td>785.37</td>\n      <td>799.06</td>\n      <td>779.02</td>\n      <td>52473</td>\n      <td>4136645488</td>\n      <td>1</td>\n      <td>600519</td>\n      <td>-8.09</td>\n      <td>78833.790483</td>\n    </tr>\n    <tr>\n      <th>3991</th>\n      <td>2018-06-04</td>\n      <td>6005191</td>\n      <td>752.35</td>\n      <td>781.97</td>\n      <td>782.90</td>\n      <td>745.88</td>\n      <td>73806</td>\n      <td>5697540352</td>\n      <td>1</td>\n      <td>600519</td>\n      <td>29.62</td>\n      <td>77196.167683</td>\n    </tr>\n    <tr>\n      <th>3992</th>\n      <td>2018-06-05</td>\n      <td>6005191</td>\n      <td>786.50</td>\n      <td>788.05</td>\n      <td>794.70</td>\n      <td>777.23</td>\n      <td>52630</td>\n      <td>4136578576</td>\n      <td>1</td>\n      <td>600519</td>\n      <td>1.55</td>\n      <td>78597.350865</td>\n    </tr>\n    <tr>\n      <th>3993</th>\n      <td>2018-06-06</td>\n      <td>6005191</td>\n      <td>788.00</td>\n      <td>785.75</td>\n      <td>800.95</td>\n      <td>782.30</td>\n      <td>48969</td>\n      <td>3870616720</td>\n      <td>1</td>\n      <td>600519</td>\n      <td>-2.25</td>\n      <td>79042.184239</td>\n    </tr>\n    <tr>\n      <th>3994</th>\n      <td>2018-06-07</td>\n      <td>6005191</td>\n      <td>789.98</td>\n      <td>780.97</td>\n      <td>795.55</td>\n      <td>778.90</td>\n      <td>39168</td>\n      <td>3078137472</td>\n      <td>1</td>\n      <td>600519</td>\n      <td>-9.01</td>\n      <td>78588.068627</td>\n    </tr>\n    <tr>\n      <th>3997</th>\n      <td>2018-06-12</td>\n      <td>6005191</td>\n      <td>778.00</td>\n      <td>799.19</td>\n      <td>803.50</td>\n      <td>776.50</td>\n      <td>55287</td>\n      <td>4385043200</td>\n      <td>1</td>\n      <td>600519</td>\n      <td>21.19</td>\n      <td>79314.182358</td>\n    </tr>\n    <tr>\n      <th>3998</th>\n      <td>2018-06-13</td>\n      <td>6005191</td>\n      <td>800.00</td>\n      <td>790.33</td>\n      <td>802.62</td>\n      <td>788.88</td>\n      <td>35244</td>\n      <td>2803441680</td>\n      <td>1</td>\n      <td>600519</td>\n      <td>-9.67</td>\n      <td>79543.799796</td>\n    </tr>\n    <tr>\n      <th>3999</th>\n      <td>2018-06-14</td>\n      <td>6005191</td>\n      <td>790.00</td>\n      <td>786.13</td>\n      <td>793.80</td>\n      <td>775.18</td>\n      <td>36160</td>\n      <td>2830514224</td>\n      <td>1</td>\n      <td>600519</td>\n      <td>-3.87</td>\n      <td>78277.495133</td>\n    </tr>\n  </tbody>\n</table>\n</div>"
     },
     "metadata": {},
     "output_type": "execute_result",
     "execution_count": 8
    }
   ],
   "source": [
    "# 逻辑运算常用的场景是按照某一条件进行筛选\n",
    "df_gzmt[df_gzmt['close']>=780]"
   ],
   "metadata": {
    "collapsed": false,
    "pycharm": {
     "name": "#%%\n",
     "is_executing": false
    }
   }
  },
  {
   "cell_type": "code",
   "execution_count": 9,
   "outputs": [
    {
     "data": {
      "text/plain": "             day  STOCK_CODE    open   close  maximum  minimum  volume  \\\n3895  2018-01-08     6005191  735.02  752.13   756.50   735.02   52205   \n3903  2018-01-18     6005191  747.93  750.74   765.00   744.09   58979   \n3904  2018-01-19     6005191  752.90  750.18   758.90   739.02   50926   \n3913  2018-02-01     6005191  767.00  757.73   767.30   752.92   50583   \n3940  2018-03-19     6005191  743.97  753.48   753.99   739.00   38667   \n3989  2018-05-31     6005191  730.25  751.13   751.62   730.24   71853   \n4003  2018-06-21     6005191  765.22  759.32   778.89   758.77   39183   \n4006  2018-06-26     6005191  765.31  754.80   769.88   747.00   46578   \n4020  2018-07-16     6005191  752.30  754.68   764.11   751.03   32475   \n\n        TURNOVER  place    code  m_increase    price_mean  \n3895  3899951728      1  600519       17.11  74704.563318  \n3903  4443031296      1  600519        2.81  75332.428424  \n3904  3818021984      1  600519       -2.72  74971.958999  \n3913  3846421616      1  600519       -9.27  76041.785106  \n3940  2897348544      1  600519        9.51  74930.781907  \n3989  5356222464      1  600519       20.88  74544.173020  \n4003  3013867648      1  600519       -5.90  76917.735957  \n4006  3516945440      1  600519      -10.51  75506.579072  \n4020  2454501600      1  600519        2.38  75581.265589  ",
      "text/html": "<div>\n<style scoped>\n    .dataframe tbody tr th:only-of-type {\n        vertical-align: middle;\n    }\n\n    .dataframe tbody tr th {\n        vertical-align: top;\n    }\n\n    .dataframe thead th {\n        text-align: right;\n    }\n</style>\n<table border=\"1\" class=\"dataframe\">\n  <thead>\n    <tr style=\"text-align: right;\">\n      <th></th>\n      <th>day</th>\n      <th>STOCK_CODE</th>\n      <th>open</th>\n      <th>close</th>\n      <th>maximum</th>\n      <th>minimum</th>\n      <th>volume</th>\n      <th>TURNOVER</th>\n      <th>place</th>\n      <th>code</th>\n      <th>m_increase</th>\n      <th>price_mean</th>\n    </tr>\n  </thead>\n  <tbody>\n    <tr>\n      <th>3895</th>\n      <td>2018-01-08</td>\n      <td>6005191</td>\n      <td>735.02</td>\n      <td>752.13</td>\n      <td>756.50</td>\n      <td>735.02</td>\n      <td>52205</td>\n      <td>3899951728</td>\n      <td>1</td>\n      <td>600519</td>\n      <td>17.11</td>\n      <td>74704.563318</td>\n    </tr>\n    <tr>\n      <th>3903</th>\n      <td>2018-01-18</td>\n      <td>6005191</td>\n      <td>747.93</td>\n      <td>750.74</td>\n      <td>765.00</td>\n      <td>744.09</td>\n      <td>58979</td>\n      <td>4443031296</td>\n      <td>1</td>\n      <td>600519</td>\n      <td>2.81</td>\n      <td>75332.428424</td>\n    </tr>\n    <tr>\n      <th>3904</th>\n      <td>2018-01-19</td>\n      <td>6005191</td>\n      <td>752.90</td>\n      <td>750.18</td>\n      <td>758.90</td>\n      <td>739.02</td>\n      <td>50926</td>\n      <td>3818021984</td>\n      <td>1</td>\n      <td>600519</td>\n      <td>-2.72</td>\n      <td>74971.958999</td>\n    </tr>\n    <tr>\n      <th>3913</th>\n      <td>2018-02-01</td>\n      <td>6005191</td>\n      <td>767.00</td>\n      <td>757.73</td>\n      <td>767.30</td>\n      <td>752.92</td>\n      <td>50583</td>\n      <td>3846421616</td>\n      <td>1</td>\n      <td>600519</td>\n      <td>-9.27</td>\n      <td>76041.785106</td>\n    </tr>\n    <tr>\n      <th>3940</th>\n      <td>2018-03-19</td>\n      <td>6005191</td>\n      <td>743.97</td>\n      <td>753.48</td>\n      <td>753.99</td>\n      <td>739.00</td>\n      <td>38667</td>\n      <td>2897348544</td>\n      <td>1</td>\n      <td>600519</td>\n      <td>9.51</td>\n      <td>74930.781907</td>\n    </tr>\n    <tr>\n      <th>3989</th>\n      <td>2018-05-31</td>\n      <td>6005191</td>\n      <td>730.25</td>\n      <td>751.13</td>\n      <td>751.62</td>\n      <td>730.24</td>\n      <td>71853</td>\n      <td>5356222464</td>\n      <td>1</td>\n      <td>600519</td>\n      <td>20.88</td>\n      <td>74544.173020</td>\n    </tr>\n    <tr>\n      <th>4003</th>\n      <td>2018-06-21</td>\n      <td>6005191</td>\n      <td>765.22</td>\n      <td>759.32</td>\n      <td>778.89</td>\n      <td>758.77</td>\n      <td>39183</td>\n      <td>3013867648</td>\n      <td>1</td>\n      <td>600519</td>\n      <td>-5.90</td>\n      <td>76917.735957</td>\n    </tr>\n    <tr>\n      <th>4006</th>\n      <td>2018-06-26</td>\n      <td>6005191</td>\n      <td>765.31</td>\n      <td>754.80</td>\n      <td>769.88</td>\n      <td>747.00</td>\n      <td>46578</td>\n      <td>3516945440</td>\n      <td>1</td>\n      <td>600519</td>\n      <td>-10.51</td>\n      <td>75506.579072</td>\n    </tr>\n    <tr>\n      <th>4020</th>\n      <td>2018-07-16</td>\n      <td>6005191</td>\n      <td>752.30</td>\n      <td>754.68</td>\n      <td>764.11</td>\n      <td>751.03</td>\n      <td>32475</td>\n      <td>2454501600</td>\n      <td>1</td>\n      <td>600519</td>\n      <td>2.38</td>\n      <td>75581.265589</td>\n    </tr>\n  </tbody>\n</table>\n</div>"
     },
     "metadata": {},
     "output_type": "execute_result",
     "execution_count": 9
    }
   ],
   "source": [
    "# 通过对多个布尔类型先进行逻辑运算（或运算|、与运算&、非运算~）\n",
    "df_gzmt[(df_gzmt['close']>=750) & (df_gzmt['close']<=760)]"
   ],
   "metadata": {
    "collapsed": false,
    "pycharm": {
     "name": "#%%\n",
     "is_executing": false
    }
   }
  },
  {
   "cell_type": "code",
   "execution_count": 10,
   "outputs": [
    {
     "data": {
      "text/plain": "             day  STOCK_CODE    open   close  maximum  minimum  volume  \\\n2616  2012-10-08     6005191  245.30  239.94   245.30   237.48   23608   \n2853  2013-10-08     6005191  135.76  136.67   137.40   134.19   56867   \n3098  2014-10-08     6005191  161.00  160.73   161.10   157.80   45653   \n3342  2015-10-08     6005191  198.78  197.52   201.58   197.00   34392   \n4074  2018-10-08     6005191  715.41  686.15   719.00   686.15   82745   \n\n        TURNOVER  place    code  m_increase    price_mean  \n2616   566527568      1  600519       -5.36  23997.270756  \n2853   773294160      1  600519        0.91  13598.293562  \n3098   725030224      1  600519       -0.27  15881.327054  \n3342   684138048      1  600519       -1.26  19892.360084  \n4074  5798721536      1  600519      -29.26  70079.419131  ",
      "text/html": "<div>\n<style scoped>\n    .dataframe tbody tr th:only-of-type {\n        vertical-align: middle;\n    }\n\n    .dataframe tbody tr th {\n        vertical-align: top;\n    }\n\n    .dataframe thead th {\n        text-align: right;\n    }\n</style>\n<table border=\"1\" class=\"dataframe\">\n  <thead>\n    <tr style=\"text-align: right;\">\n      <th></th>\n      <th>day</th>\n      <th>STOCK_CODE</th>\n      <th>open</th>\n      <th>close</th>\n      <th>maximum</th>\n      <th>minimum</th>\n      <th>volume</th>\n      <th>TURNOVER</th>\n      <th>place</th>\n      <th>code</th>\n      <th>m_increase</th>\n      <th>price_mean</th>\n    </tr>\n  </thead>\n  <tbody>\n    <tr>\n      <th>2616</th>\n      <td>2012-10-08</td>\n      <td>6005191</td>\n      <td>245.30</td>\n      <td>239.94</td>\n      <td>245.30</td>\n      <td>237.48</td>\n      <td>23608</td>\n      <td>566527568</td>\n      <td>1</td>\n      <td>600519</td>\n      <td>-5.36</td>\n      <td>23997.270756</td>\n    </tr>\n    <tr>\n      <th>2853</th>\n      <td>2013-10-08</td>\n      <td>6005191</td>\n      <td>135.76</td>\n      <td>136.67</td>\n      <td>137.40</td>\n      <td>134.19</td>\n      <td>56867</td>\n      <td>773294160</td>\n      <td>1</td>\n      <td>600519</td>\n      <td>0.91</td>\n      <td>13598.293562</td>\n    </tr>\n    <tr>\n      <th>3098</th>\n      <td>2014-10-08</td>\n      <td>6005191</td>\n      <td>161.00</td>\n      <td>160.73</td>\n      <td>161.10</td>\n      <td>157.80</td>\n      <td>45653</td>\n      <td>725030224</td>\n      <td>1</td>\n      <td>600519</td>\n      <td>-0.27</td>\n      <td>15881.327054</td>\n    </tr>\n    <tr>\n      <th>3342</th>\n      <td>2015-10-08</td>\n      <td>6005191</td>\n      <td>198.78</td>\n      <td>197.52</td>\n      <td>201.58</td>\n      <td>197.00</td>\n      <td>34392</td>\n      <td>684138048</td>\n      <td>1</td>\n      <td>600519</td>\n      <td>-1.26</td>\n      <td>19892.360084</td>\n    </tr>\n    <tr>\n      <th>4074</th>\n      <td>2018-10-08</td>\n      <td>6005191</td>\n      <td>715.41</td>\n      <td>686.15</td>\n      <td>719.00</td>\n      <td>686.15</td>\n      <td>82745</td>\n      <td>5798721536</td>\n      <td>1</td>\n      <td>600519</td>\n      <td>-29.26</td>\n      <td>70079.419131</td>\n    </tr>\n  </tbody>\n</table>\n</div>"
     },
     "metadata": {},
     "output_type": "execute_result",
     "execution_count": 10
    }
   ],
   "source": [
    "# 如果是不连续条件呢？isin可以方便地解决这个问题\n",
    "df_gzmt[df_gzmt['day'].isin(['2012-10-08','2013-10-08','2014-10-08','2015-10-08','2016-10-08','2017-10-08','2018-10-08',])]"
   ],
   "metadata": {
    "collapsed": false,
    "pycharm": {
     "name": "#%%\n",
     "is_executing": false
    }
   }
  },
  {
   "cell_type": "code",
   "execution_count": 11,
   "outputs": [
    {
     "data": {
      "text/plain": "182.435229604299"
     },
     "metadata": {},
     "output_type": "execute_result",
     "execution_count": 11
    }
   ],
   "source": [
    "# axis=0表示进行纵向方向的计算，axis=1表示进行横向方向的计算\n",
    "df_gzmt['close'].mean(axis=0,skipna=True)"
   ],
   "metadata": {
    "collapsed": false,
    "pycharm": {
     "name": "#%%\n",
     "is_executing": false
    }
   }
  },
  {
   "cell_type": "code",
   "execution_count": 12,
   "outputs": [
    {
     "data": {
      "text/plain": "3997"
     },
     "metadata": {},
     "output_type": "execute_result",
     "execution_count": 12
    }
   ],
   "source": [
    "df_gzmt['close'].idxmax(axis=0)\n"
   ],
   "metadata": {
    "collapsed": false,
    "pycharm": {
     "name": "#%%\n",
     "is_executing": false
    }
   }
  }
 ],
 "metadata": {
  "kernelspec": {
   "display_name": "Python 3",
   "language": "python",
   "name": "python3"
  },
  "language_info": {
   "codemirror_mode": {
    "name": "ipython",
    "version": 2
   },
   "file_extension": ".py",
   "mimetype": "text/x-python",
   "name": "python",
   "nbconvert_exporter": "python",
   "pygments_lexer": "ipython2",
   "version": "2.7.6"
  },
  "pycharm": {
   "stem_cell": {
    "cell_type": "raw",
    "source": [],
    "metadata": {
     "collapsed": false
    }
   }
  }
 },
 "nbformat": 4,
 "nbformat_minor": 0
}