{
 "cells": [
  {
   "cell_type": "markdown",
   "metadata": {
    "collapsed": true,
    "pycharm": {
     "name": "#%% md\n"
    }
   },
   "source": [
    "- 模块glob\n",
    "- 通配符-星号*：星号*匹配一个文件名段中的0个或多个字符\n",
    "- 单配符-问号?：问号?会匹配文件名中该位置的单个字符。\n",
    "- 字符区间-[a-z]：使用字符区间[a-z]，可以匹配多个字符中的一个字符。"
   ]
  },
  {
   "cell_type": "code",
   "execution_count": 7,
   "outputs": [],
   "source": [
    "import glob\n",
    "import os"
   ],
   "metadata": {
    "collapsed": false,
    "pycharm": {
     "name": "#%%\n"
    }
   }
  },
  {
   "cell_type": "code",
   "execution_count": 6,
   "outputs": [
    {
     "data": {
      "text/plain": "['E:/Downloads\\\\chromedriver_win32.zip',\n 'E:/Downloads\\\\elegant_font.zip',\n 'E:/Downloads\\\\frp_0.34.0_windows_amd64.zip',\n 'E:/Downloads\\\\WinSW.NETCore.x64.zip',\n 'E:/Downloads\\\\winutilsmaster.zip',\n 'E:/Downloads\\\\证书.zip']"
     },
     "execution_count": 6,
     "metadata": {},
     "output_type": "execute_result"
    }
   ],
   "source": [
    "glob.glob(r'E:/Downloads/*.zip')"
   ],
   "metadata": {
    "collapsed": false,
    "pycharm": {
     "name": "#%%\n"
    }
   }
  },
  {
   "cell_type": "code",
   "execution_count": 8,
   "outputs": [
    {
     "data": {
      "text/plain": "'D:\\\\Projects\\\\python_projects'"
     },
     "execution_count": 8,
     "metadata": {},
     "output_type": "execute_result"
    }
   ],
   "source": [
    "os.getcwd()"
   ],
   "metadata": {
    "collapsed": false,
    "pycharm": {
     "name": "#%%\n"
    }
   }
  },
  {
   "cell_type": "code",
   "execution_count": 9,
   "outputs": [
    {
     "data": {
      "text/plain": "['D:\\\\Projects\\\\python_projects']"
     },
     "execution_count": 9,
     "metadata": {},
     "output_type": "execute_result"
    }
   ],
   "source": [
    "glob.glob(os.getcwd())"
   ],
   "metadata": {
    "collapsed": false,
    "pycharm": {
     "name": "#%%\n"
    }
   }
  },
  {
   "cell_type": "code",
   "execution_count": 12,
   "outputs": [
    {
     "name": "stdout",
     "output_type": "stream",
     "text": [
      "E:/Downloads\\bag.png\n",
      "E:/Downloads\\chromedriver_win32.zip\n",
      "E:/Downloads\\desktop.ini\n",
      "E:/Downloads\\elegant_font\n",
      "E:/Downloads\\elegant_font.zip\n",
      "E:/Downloads\\frp_0.34.0_windows_amd64.zip\n",
      "E:/Downloads\\MobileFile\n",
      "E:/Downloads\\torrents\n",
      "E:/Downloads\\uwsgi-2.0.18.tar.gz\n",
      "E:/Downloads\\WinSW.NETCore.x64.zip\n",
      "E:/Downloads\\winutilsmaster\n",
      "E:/Downloads\\winutilsmaster.zip\n",
      "E:/Downloads\\证书.zip\n",
      "E:/Downloads\\证书正面.jpg\n",
      "E:/Downloads\\证书背面.jpg\n"
     ]
    }
   ],
   "source": [
    "# 不包括子目录\n",
    "files=glob.iglob(r'E:/Downloads/*')\n",
    "for file in files:\n",
    "    print(file)"
   ],
   "metadata": {
    "collapsed": false,
    "pycharm": {
     "name": "#%%\n"
    }
   }
  },
  {
   "cell_type": "code",
   "execution_count": 14,
   "outputs": [
    {
     "name": "stdout",
     "output_type": "stream",
     "text": [
      "E:/Downloads\\elegant_font\\HTML CSS\n",
      "E:/Downloads\\elegant_font\\images\n",
      "E:/Downloads\\elegant_font\\Licensing\n",
      "E:/Downloads\\MobileFile\\1月15日 08点45分成.mp3\n",
      "E:/Downloads\\MobileFile\\2020年01月单项奖.xlsx\n",
      "E:/Downloads\\MobileFile\\2020年员工签到劳动合同基本工资标准.xlsx\n",
      "E:/Downloads\\MobileFile\\2020年子公司与总部对接的主要事务性工作要求相关模板.rar\n",
      "E:/Downloads\\MobileFile\\Image\n",
      "E:/Downloads\\MobileFile\\mpFile\n",
      "E:/Downloads\\MobileFile\\thumb\n",
      "E:/Downloads\\torrents\\Alita.Battle.Angel.2019.1080p.WEB-DL.H264.AC3-EVO.mkv.torrent\n",
      "E:/Downloads\\torrents\\Avengers.Endgame.2019.INTERNAL.2160p.WEB.H265-DEFLATE.mkv.torrent\n",
      "E:/Downloads\\torrents\\cn_windows_10_business_edition_version_1903_updated_june_2019_x64_dvd_830837d9.iso.torrent\n",
      "E:/Downloads\\torrents\\cn_windows_7_ultimate_with_sp1_x64_dvd_u_677408.iso.torrent\n",
      "E:/Downloads\\torrents\\Concert.YY.2012.BluRay.1080p.DTS.x264-CHD.torrent\n",
      "E:/Downloads\\torrents\\DiskGenius.5.1.2.766.torrent\n",
      "E:/Downloads\\torrents\\Fantastic.Beasts.The.Crimes.of.Grindelwald.2018.1080p.KORSUB.HDRip.x264.AAC2.0-STUTTERSHIT.torrent\n",
      "E:/Downloads\\torrents\\Fast.and.Furious.Presents.Hobbs.and.Shaw.2019.1080p.AMZN.WEB-DL.DDP5.1.H.264-NTG.mkv.torrent\n",
      "E:/Downloads\\torrents\\Game.of.Thrones.S08.1080p.AMZN.WEB-DL.DDP5.1.H.264-GoT.torrent\n",
      "E:/Downloads\\torrents\\GuJian2.chs.v.1.0.0.0.torrent\n"
     ]
    }
   ],
   "source": [
    "# 包括子目录\n",
    "files=glob.iglob(r'E:/Downloads/*/*')\n",
    "c=0\n",
    "for file in files:\n",
    "    if c< 20:\n",
    "        print(file)\n",
    "        c+=1\n",
    "    else:\n",
    "        break"
   ],
   "metadata": {
    "collapsed": false,
    "pycharm": {
     "name": "#%%\n"
    }
   }
  },
  {
   "cell_type": "code",
   "execution_count": 15,
   "outputs": [
    {
     "name": "stdout",
     "output_type": "stream",
     "text": [
      "E:/Downloads\\elegant_font\\HTML CSS\n",
      "E:/Downloads\\elegant_font\\images\n",
      "E:/Downloads\\elegant_font\\Licensing\n",
      "E:/Downloads\\MobileFile\\Image\n",
      "E:/Downloads\\MobileFile\\mpFile\n",
      "E:/Downloads\\MobileFile\\thumb\n",
      "E:/Downloads\\torrents\\Alita.Battle.Angel.2019.1080p.WEB-DL.H264.AC3-EVO.mkv.torrent\n",
      "E:/Downloads\\torrents\\Avengers.Endgame.2019.INTERNAL.2160p.WEB.H265-DEFLATE.mkv.torrent\n",
      "E:/Downloads\\torrents\\cn_windows_10_business_edition_version_1903_updated_june_2019_x64_dvd_830837d9.iso.torrent\n",
      "E:/Downloads\\torrents\\cn_windows_7_ultimate_with_sp1_x64_dvd_u_677408.iso.torrent\n",
      "E:/Downloads\\torrents\\Concert.YY.2012.BluRay.1080p.DTS.x264-CHD.torrent\n",
      "E:/Downloads\\torrents\\DiskGenius.5.1.2.766.torrent\n",
      "E:/Downloads\\torrents\\Fantastic.Beasts.The.Crimes.of.Grindelwald.2018.1080p.KORSUB.HDRip.x264.AAC2.0-STUTTERSHIT.torrent\n",
      "E:/Downloads\\torrents\\Fast.and.Furious.Presents.Hobbs.and.Shaw.2019.1080p.AMZN.WEB-DL.DDP5.1.H.264-NTG.mkv.torrent\n",
      "E:/Downloads\\torrents\\Game.of.Thrones.S08.1080p.AMZN.WEB-DL.DDP5.1.H.264-GoT.torrent\n",
      "E:/Downloads\\torrents\\GuJian2.chs.v.1.0.0.0.torrent\n",
      "E:/Downloads\\torrents\\How.to.Train.Your.Dragon.The.Hidden.World.2019.720p.BluRay.x264-CtrlHD.mkv.torrent\n",
      "E:/Downloads\\torrents\\Into.the.Universe.with.Stephen.Hawking.2010.720p.BluRay.x264-DON.torrent\n",
      "E:/Downloads\\torrents\\Maudie (2016) [1080p] [YTS.AG].torrent\n",
      "E:/Downloads\\torrents\\Nezha.Birth.of.the.Demon.Child.2019.WEB-DL.4K.H265.DDP5.1-Taobao.mkv.torrent\n"
     ]
    }
   ],
   "source": [
    "# 包括子目录，只包括英文\n",
    "files=glob.iglob(r'E:/Downloads/*/[a-z]*')\n",
    "c=0\n",
    "for file in files:\n",
    "    if c< 20:\n",
    "        print(file)\n",
    "        c+=1\n",
    "    else:\n",
    "        break"
   ],
   "metadata": {
    "collapsed": false,
    "pycharm": {
     "name": "#%%\n"
    }
   }
  },
  {
   "cell_type": "code",
   "execution_count": null,
   "outputs": [],
   "source": [],
   "metadata": {
    "collapsed": false,
    "pycharm": {
     "name": "#%%\n"
    }
   }
  }
 ],
 "metadata": {
  "kernelspec": {
   "display_name": "Python 3",
   "language": "python",
   "name": "python3"
  },
  "language_info": {
   "codemirror_mode": {
    "name": "ipython",
    "version": 2
   },
   "file_extension": ".py",
   "mimetype": "text/x-python",
   "name": "python",
   "nbconvert_exporter": "python",
   "pygments_lexer": "ipython2",
   "version": "2.7.6"
  }
 },
 "nbformat": 4,
 "nbformat_minor": 0
}