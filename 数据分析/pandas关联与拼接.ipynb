{
 "cells": [
  {
   "cell_type": "code",
   "execution_count": 2,
   "metadata": {
    "pycharm": {
     "is_executing": false,
     "name": "#%%\n"
    }
   },
   "outputs": [
    {
     "name": "stdout",
     "text": [
      "   sites  AQI  PM25  SO2\n",
      "0    迈皋桥   55    30   10\n",
      "1    草场门   75    54   15\n",
      "2     浦口   69    47   13\n",
      "3   奥体中心   74    40   17\n",
      "4  仙林大学城   58    27   10\n",
      "  names regions weather\n",
      "0   迈皋桥     栖霞区       晴\n",
      "1   草场门     鼓楼区       晴\n",
      "2    浦口     浦口区      多云\n",
      "3  奥体中心     建邺区       阴\n",
      "4   玄武湖     玄武区       晴\n"
     ],
     "output_type": "stream"
    }
   ],
   "source": [
    "# 2019-12-08南京部分检测站点的天气指标\n",
    "polls = {\"sites\":[\"迈皋桥\", \"草场门\", \"浦口\", \"奥体中心\", \"仙林大学城\"], \n",
    "        \"AQI\":[55, 75, 69, 74, 58], \n",
    "        \"PM25\":[30, 54, 47,40 ,27], \n",
    "        \"SO2\":[10, 15, 13, 17, 10]}\n",
    "# 站点的信息\n",
    "sites = {\"names\":[\"迈皋桥\", \"草场门\", \"浦口\", \"奥体中心\", \"玄武湖\"], \n",
    "        \"regions\":[\"栖霞区\", \"鼓楼区\", \"浦口区\", \"建邺区\", \"玄武区\"], \n",
    "        \"weather\":[\"晴\", \"晴\", \"多云\", \"阴\", \"晴\"]}\n",
    "'''\n",
    "pd.merge(left, right, how='inner', on=None, left_on=None, right_on=None,\n",
    "         left_index=False, right_index=False)\n",
    "left：拼接左侧的DataFrame对象；\n",
    "right：拼接右侧的DataFrame对象；\n",
    "on：待关联的同名列名，存在于左右两个DataFrame对象中；\n",
    "how：连接方式，inner（默认），其他可选：outer、left、right ；\n",
    "left_on：左侧DataFarme中用作连接键的列名；\n",
    "right_on：右侧DataFarme中用作连接键的列；\n",
    "left_index：将左侧的行索引用作其连接键；\n",
    "right_index：将右侧的行索引用作其连接键；\n",
    "根据连接方式的不同（how字段），可以分为左连接（left）、右连接（right）、\n",
    "内连接（inner）、外连接（outer）共4种情况。\n",
    "'''\n",
    "import pandas as pd\n",
    "# 读取数据集，把字典格式转变为DataFrame格式\n",
    "df_polls=pd.DataFrame(polls)\n",
    "df_sites=pd.DataFrame(sites)\n",
    "print(df_polls)\n",
    "print(df_sites)"
   ]
  },
  {
   "cell_type": "code",
   "execution_count": 3,
   "metadata": {
    "pycharm": {
     "is_executing": false,
     "name": "#%%\n"
    }
   },
   "outputs": [
    {
     "data": {
      "text/plain": "   sites  AQI  PM25  SO2 names regions weather\n0    迈皋桥   55    30   10   迈皋桥     栖霞区       晴\n1    草场门   75    54   15   草场门     鼓楼区       晴\n2     浦口   69    47   13    浦口     浦口区      多云\n3   奥体中心   74    40   17  奥体中心     建邺区       阴\n4  仙林大学城   58    27   10   NaN     NaN     NaN",
      "text/html": "<div>\n<style scoped>\n    .dataframe tbody tr th:only-of-type {\n        vertical-align: middle;\n    }\n\n    .dataframe tbody tr th {\n        vertical-align: top;\n    }\n\n    .dataframe thead th {\n        text-align: right;\n    }\n</style>\n<table border=\"1\" class=\"dataframe\">\n  <thead>\n    <tr style=\"text-align: right;\">\n      <th></th>\n      <th>sites</th>\n      <th>AQI</th>\n      <th>PM25</th>\n      <th>SO2</th>\n      <th>names</th>\n      <th>regions</th>\n      <th>weather</th>\n    </tr>\n  </thead>\n  <tbody>\n    <tr>\n      <th>0</th>\n      <td>迈皋桥</td>\n      <td>55</td>\n      <td>30</td>\n      <td>10</td>\n      <td>迈皋桥</td>\n      <td>栖霞区</td>\n      <td>晴</td>\n    </tr>\n    <tr>\n      <th>1</th>\n      <td>草场门</td>\n      <td>75</td>\n      <td>54</td>\n      <td>15</td>\n      <td>草场门</td>\n      <td>鼓楼区</td>\n      <td>晴</td>\n    </tr>\n    <tr>\n      <th>2</th>\n      <td>浦口</td>\n      <td>69</td>\n      <td>47</td>\n      <td>13</td>\n      <td>浦口</td>\n      <td>浦口区</td>\n      <td>多云</td>\n    </tr>\n    <tr>\n      <th>3</th>\n      <td>奥体中心</td>\n      <td>74</td>\n      <td>40</td>\n      <td>17</td>\n      <td>奥体中心</td>\n      <td>建邺区</td>\n      <td>阴</td>\n    </tr>\n    <tr>\n      <th>4</th>\n      <td>仙林大学城</td>\n      <td>58</td>\n      <td>27</td>\n      <td>10</td>\n      <td>NaN</td>\n      <td>NaN</td>\n      <td>NaN</td>\n    </tr>\n  </tbody>\n</table>\n</div>"
     },
     "metadata": {},
     "output_type": "execute_result",
     "execution_count": 3
    }
   ],
   "source": [
    "# 总览左右两侧的DataFrame，我们发现并没有共同的列，所以这里我无法通过指定on字段来进行关联；\n",
    "# 对应的，我们分别指定left_on和right_on\n",
    "pd.merge(df_polls,df_sites,left_on='sites',right_on='names',how='left')"
   ]
  },
  {
   "cell_type": "code",
   "execution_count": 4,
   "metadata": {
    "pycharm": {
     "is_executing": false,
     "name": "#%%\n"
    }
   },
   "outputs": [
    {
     "data": {
      "text/plain": "  sites   AQI  PM25   SO2 names regions weather\n0   迈皋桥  55.0  30.0  10.0   迈皋桥     栖霞区       晴\n1   草场门  75.0  54.0  15.0   草场门     鼓楼区       晴\n2    浦口  69.0  47.0  13.0    浦口     浦口区      多云\n3  奥体中心  74.0  40.0  17.0  奥体中心     建邺区       阴\n4   NaN   NaN   NaN   NaN   玄武湖     玄武区       晴",
      "text/html": "<div>\n<style scoped>\n    .dataframe tbody tr th:only-of-type {\n        vertical-align: middle;\n    }\n\n    .dataframe tbody tr th {\n        vertical-align: top;\n    }\n\n    .dataframe thead th {\n        text-align: right;\n    }\n</style>\n<table border=\"1\" class=\"dataframe\">\n  <thead>\n    <tr style=\"text-align: right;\">\n      <th></th>\n      <th>sites</th>\n      <th>AQI</th>\n      <th>PM25</th>\n      <th>SO2</th>\n      <th>names</th>\n      <th>regions</th>\n      <th>weather</th>\n    </tr>\n  </thead>\n  <tbody>\n    <tr>\n      <th>0</th>\n      <td>迈皋桥</td>\n      <td>55.0</td>\n      <td>30.0</td>\n      <td>10.0</td>\n      <td>迈皋桥</td>\n      <td>栖霞区</td>\n      <td>晴</td>\n    </tr>\n    <tr>\n      <th>1</th>\n      <td>草场门</td>\n      <td>75.0</td>\n      <td>54.0</td>\n      <td>15.0</td>\n      <td>草场门</td>\n      <td>鼓楼区</td>\n      <td>晴</td>\n    </tr>\n    <tr>\n      <th>2</th>\n      <td>浦口</td>\n      <td>69.0</td>\n      <td>47.0</td>\n      <td>13.0</td>\n      <td>浦口</td>\n      <td>浦口区</td>\n      <td>多云</td>\n    </tr>\n    <tr>\n      <th>3</th>\n      <td>奥体中心</td>\n      <td>74.0</td>\n      <td>40.0</td>\n      <td>17.0</td>\n      <td>奥体中心</td>\n      <td>建邺区</td>\n      <td>阴</td>\n    </tr>\n    <tr>\n      <th>4</th>\n      <td>NaN</td>\n      <td>NaN</td>\n      <td>NaN</td>\n      <td>NaN</td>\n      <td>玄武湖</td>\n      <td>玄武区</td>\n      <td>晴</td>\n    </tr>\n  </tbody>\n</table>\n</div>"
     },
     "metadata": {},
     "output_type": "execute_result",
     "execution_count": 4
    }
   ],
   "source": [
    "# 右连接的右侧连接键是names，因此以names列为基准，其他列往上拼接，无对应值则为Nan\n",
    "# 在默认的情况下，merge函数会保留全部的列字段\n",
    "pd.merge(df_polls,df_sites,left_on='sites',right_on='names',how='right')"
   ]
  },
  {
   "cell_type": "code",
   "execution_count": 5,
   "metadata": {
    "pycharm": {
     "is_executing": false,
     "name": "#%%\n"
    }
   },
   "outputs": [
    {
     "data": {
      "text/plain": "  sites  AQI  PM25  SO2 names regions weather\n0   迈皋桥   55    30   10   迈皋桥     栖霞区       晴\n1   草场门   75    54   15   草场门     鼓楼区       晴\n2    浦口   69    47   13    浦口     浦口区      多云\n3  奥体中心   74    40   17  奥体中心     建邺区       阴",
      "text/html": "<div>\n<style scoped>\n    .dataframe tbody tr th:only-of-type {\n        vertical-align: middle;\n    }\n\n    .dataframe tbody tr th {\n        vertical-align: top;\n    }\n\n    .dataframe thead th {\n        text-align: right;\n    }\n</style>\n<table border=\"1\" class=\"dataframe\">\n  <thead>\n    <tr style=\"text-align: right;\">\n      <th></th>\n      <th>sites</th>\n      <th>AQI</th>\n      <th>PM25</th>\n      <th>SO2</th>\n      <th>names</th>\n      <th>regions</th>\n      <th>weather</th>\n    </tr>\n  </thead>\n  <tbody>\n    <tr>\n      <th>0</th>\n      <td>迈皋桥</td>\n      <td>55</td>\n      <td>30</td>\n      <td>10</td>\n      <td>迈皋桥</td>\n      <td>栖霞区</td>\n      <td>晴</td>\n    </tr>\n    <tr>\n      <th>1</th>\n      <td>草场门</td>\n      <td>75</td>\n      <td>54</td>\n      <td>15</td>\n      <td>草场门</td>\n      <td>鼓楼区</td>\n      <td>晴</td>\n    </tr>\n    <tr>\n      <th>2</th>\n      <td>浦口</td>\n      <td>69</td>\n      <td>47</td>\n      <td>13</td>\n      <td>浦口</td>\n      <td>浦口区</td>\n      <td>多云</td>\n    </tr>\n    <tr>\n      <th>3</th>\n      <td>奥体中心</td>\n      <td>74</td>\n      <td>40</td>\n      <td>17</td>\n      <td>奥体中心</td>\n      <td>建邺区</td>\n      <td>阴</td>\n    </tr>\n  </tbody>\n</table>\n</div>"
     },
     "metadata": {},
     "output_type": "execute_result",
     "execution_count": 5
    }
   ],
   "source": [
    "# 默认how='inner'\n",
    "pd.merge(df_polls,df_sites,left_on='sites',right_on='names')"
   ]
  },
  {
   "cell_type": "code",
   "execution_count": 6,
   "metadata": {
    "pycharm": {
     "is_executing": false,
     "name": "#%%\n"
    }
   },
   "outputs": [
    {
     "data": {
      "text/plain": "   sites   AQI  PM25   SO2 names regions weather\n0    迈皋桥  55.0  30.0  10.0   迈皋桥     栖霞区       晴\n1    草场门  75.0  54.0  15.0   草场门     鼓楼区       晴\n2     浦口  69.0  47.0  13.0    浦口     浦口区      多云\n3   奥体中心  74.0  40.0  17.0  奥体中心     建邺区       阴\n4  仙林大学城  58.0  27.0  10.0   NaN     NaN     NaN\n5    NaN   NaN   NaN   NaN   玄武湖     玄武区       晴",
      "text/html": "<div>\n<style scoped>\n    .dataframe tbody tr th:only-of-type {\n        vertical-align: middle;\n    }\n\n    .dataframe tbody tr th {\n        vertical-align: top;\n    }\n\n    .dataframe thead th {\n        text-align: right;\n    }\n</style>\n<table border=\"1\" class=\"dataframe\">\n  <thead>\n    <tr style=\"text-align: right;\">\n      <th></th>\n      <th>sites</th>\n      <th>AQI</th>\n      <th>PM25</th>\n      <th>SO2</th>\n      <th>names</th>\n      <th>regions</th>\n      <th>weather</th>\n    </tr>\n  </thead>\n  <tbody>\n    <tr>\n      <th>0</th>\n      <td>迈皋桥</td>\n      <td>55.0</td>\n      <td>30.0</td>\n      <td>10.0</td>\n      <td>迈皋桥</td>\n      <td>栖霞区</td>\n      <td>晴</td>\n    </tr>\n    <tr>\n      <th>1</th>\n      <td>草场门</td>\n      <td>75.0</td>\n      <td>54.0</td>\n      <td>15.0</td>\n      <td>草场门</td>\n      <td>鼓楼区</td>\n      <td>晴</td>\n    </tr>\n    <tr>\n      <th>2</th>\n      <td>浦口</td>\n      <td>69.0</td>\n      <td>47.0</td>\n      <td>13.0</td>\n      <td>浦口</td>\n      <td>浦口区</td>\n      <td>多云</td>\n    </tr>\n    <tr>\n      <th>3</th>\n      <td>奥体中心</td>\n      <td>74.0</td>\n      <td>40.0</td>\n      <td>17.0</td>\n      <td>奥体中心</td>\n      <td>建邺区</td>\n      <td>阴</td>\n    </tr>\n    <tr>\n      <th>4</th>\n      <td>仙林大学城</td>\n      <td>58.0</td>\n      <td>27.0</td>\n      <td>10.0</td>\n      <td>NaN</td>\n      <td>NaN</td>\n      <td>NaN</td>\n    </tr>\n    <tr>\n      <th>5</th>\n      <td>NaN</td>\n      <td>NaN</td>\n      <td>NaN</td>\n      <td>NaN</td>\n      <td>玄武湖</td>\n      <td>玄武区</td>\n      <td>晴</td>\n    </tr>\n  </tbody>\n</table>\n</div>"
     },
     "metadata": {},
     "output_type": "execute_result",
     "execution_count": 6
    }
   ],
   "source": [
    "pd.merge(df_polls,df_sites,left_on='sites',right_on='names',how='outer')"
   ]
  },
  {
   "cell_type": "code",
   "execution_count": 7,
   "metadata": {
    "pycharm": {
     "name": "#%%\n",
     "is_executing": false
    }
   },
   "outputs": [
    {
     "name": "stdout",
     "text": [
      "  sites        date  AQI\n",
      "0   迈皋桥  2019-12-08   55\n",
      "1   草场门  2019-12-08   75\n",
      "2    浦口  2019-12-08   69\n",
      "3   迈皋桥  2019-12-07   45\n",
      "4   草场门  2019-12-07   35\n",
      "5    浦口  2019-12-07   53\n",
      "  sites        date weather\n",
      "0   迈皋桥  2019-12-08       晴\n",
      "1   草场门  2019-12-08       晴\n",
      "2   迈皋桥  2019-12-09      多云\n",
      "3   草场门  2019-12-09       阴\n"
     ],
     "output_type": "stream"
    }
   ],
   "source": [
    "# 定义左侧数据集\n",
    "df_left = pd.DataFrame({\"sites\":[\"迈皋桥\", \"草场门\", \"浦口\", \"迈皋桥\", \"草场门\", \"浦口\"], \n",
    "                       \"date\":[\"2019-12-08\", \"2019-12-08\", \"2019-12-08\", \"2019-12-07\", \"2019-12-07\", \"2019-12-07\"],  \n",
    "                       \"AQI\":[55, 75, 69, 45, 35, 53]})\n",
    "# 定义右侧数据集\n",
    "df_right = pd.DataFrame({\"sites\":[\"迈皋桥\", \"草场门\", \"迈皋桥\", \"草场门\"], \n",
    "                        \"date\":[\"2019-12-08\", \"2019-12-08\", \"2019-12-09\", \"2019-12-09\"], \n",
    "                        \"weather\":[\"晴\",  \"晴\", \"多云\", \"阴\"]})\n",
    "print(df_left)\n",
    "print(df_right)"
   ]
  },
  {
   "cell_type": "code",
   "execution_count": 8,
   "outputs": [
    {
     "data": {
      "text/plain": "  sites        date  AQI weather\n0   迈皋桥  2019-12-08   55       晴\n1   草场门  2019-12-08   75       晴",
      "text/html": "<div>\n<style scoped>\n    .dataframe tbody tr th:only-of-type {\n        vertical-align: middle;\n    }\n\n    .dataframe tbody tr th {\n        vertical-align: top;\n    }\n\n    .dataframe thead th {\n        text-align: right;\n    }\n</style>\n<table border=\"1\" class=\"dataframe\">\n  <thead>\n    <tr style=\"text-align: right;\">\n      <th></th>\n      <th>sites</th>\n      <th>date</th>\n      <th>AQI</th>\n      <th>weather</th>\n    </tr>\n  </thead>\n  <tbody>\n    <tr>\n      <th>0</th>\n      <td>迈皋桥</td>\n      <td>2019-12-08</td>\n      <td>55</td>\n      <td>晴</td>\n    </tr>\n    <tr>\n      <th>1</th>\n      <td>草场门</td>\n      <td>2019-12-08</td>\n      <td>75</td>\n      <td>晴</td>\n    </tr>\n  </tbody>\n</table>\n</div>"
     },
     "metadata": {},
     "output_type": "execute_result",
     "execution_count": 8
    }
   ],
   "source": [
    "# sites、date两个字段均一样，才满足拼接条件。\n",
    "pd.merge(df_left,df_right,on=['sites','date'])"
   ],
   "metadata": {
    "collapsed": false,
    "pycharm": {
     "name": "#%%\n",
     "is_executing": false
    }
   }
  },
  {
   "cell_type": "code",
   "execution_count": 9,
   "outputs": [
    {
     "data": {
      "text/plain": "  sites      date_x  AQI      date_y weather\n0   迈皋桥  2019-12-08   55  2019-12-08       晴\n1   迈皋桥  2019-12-08   55  2019-12-09      多云\n2   迈皋桥  2019-12-07   45  2019-12-08       晴\n3   迈皋桥  2019-12-07   45  2019-12-09      多云\n4   草场门  2019-12-08   75  2019-12-08       晴\n5   草场门  2019-12-08   75  2019-12-09       阴\n6   草场门  2019-12-07   35  2019-12-08       晴\n7   草场门  2019-12-07   35  2019-12-09       阴",
      "text/html": "<div>\n<style scoped>\n    .dataframe tbody tr th:only-of-type {\n        vertical-align: middle;\n    }\n\n    .dataframe tbody tr th {\n        vertical-align: top;\n    }\n\n    .dataframe thead th {\n        text-align: right;\n    }\n</style>\n<table border=\"1\" class=\"dataframe\">\n  <thead>\n    <tr style=\"text-align: right;\">\n      <th></th>\n      <th>sites</th>\n      <th>date_x</th>\n      <th>AQI</th>\n      <th>date_y</th>\n      <th>weather</th>\n    </tr>\n  </thead>\n  <tbody>\n    <tr>\n      <th>0</th>\n      <td>迈皋桥</td>\n      <td>2019-12-08</td>\n      <td>55</td>\n      <td>2019-12-08</td>\n      <td>晴</td>\n    </tr>\n    <tr>\n      <th>1</th>\n      <td>迈皋桥</td>\n      <td>2019-12-08</td>\n      <td>55</td>\n      <td>2019-12-09</td>\n      <td>多云</td>\n    </tr>\n    <tr>\n      <th>2</th>\n      <td>迈皋桥</td>\n      <td>2019-12-07</td>\n      <td>45</td>\n      <td>2019-12-08</td>\n      <td>晴</td>\n    </tr>\n    <tr>\n      <th>3</th>\n      <td>迈皋桥</td>\n      <td>2019-12-07</td>\n      <td>45</td>\n      <td>2019-12-09</td>\n      <td>多云</td>\n    </tr>\n    <tr>\n      <th>4</th>\n      <td>草场门</td>\n      <td>2019-12-08</td>\n      <td>75</td>\n      <td>2019-12-08</td>\n      <td>晴</td>\n    </tr>\n    <tr>\n      <th>5</th>\n      <td>草场门</td>\n      <td>2019-12-08</td>\n      <td>75</td>\n      <td>2019-12-09</td>\n      <td>阴</td>\n    </tr>\n    <tr>\n      <th>6</th>\n      <td>草场门</td>\n      <td>2019-12-07</td>\n      <td>35</td>\n      <td>2019-12-08</td>\n      <td>晴</td>\n    </tr>\n    <tr>\n      <th>7</th>\n      <td>草场门</td>\n      <td>2019-12-07</td>\n      <td>35</td>\n      <td>2019-12-09</td>\n      <td>阴</td>\n    </tr>\n  </tbody>\n</table>\n</div>"
     },
     "metadata": {},
     "output_type": "execute_result",
     "execution_count": 9
    }
   ],
   "source": [
    "# 当数据量增大时，我们要尤其注意避免数据量呈几何级增大这种问题。\n",
    "pd.merge(df_left,df_right,on='sites')"
   ],
   "metadata": {
    "collapsed": false,
    "pycharm": {
     "name": "#%%\n",
     "is_executing": false
    }
   }
  },
  {
   "cell_type": "code",
   "execution_count": 10,
   "outputs": [
    {
     "data": {
      "text/plain": "  sites        date   AQI weather\n0   迈皋桥  2019-12-08  55.0       晴\n1   草场门  2019-12-08  75.0       晴\n2    浦口  2019-12-08  69.0     NaN\n3   迈皋桥  2019-12-07  45.0     NaN\n4   草场门  2019-12-07  35.0     NaN\n5    浦口  2019-12-07  53.0     NaN\n6   迈皋桥  2019-12-09   NaN      多云\n7   草场门  2019-12-09   NaN       阴",
      "text/html": "<div>\n<style scoped>\n    .dataframe tbody tr th:only-of-type {\n        vertical-align: middle;\n    }\n\n    .dataframe tbody tr th {\n        vertical-align: top;\n    }\n\n    .dataframe thead th {\n        text-align: right;\n    }\n</style>\n<table border=\"1\" class=\"dataframe\">\n  <thead>\n    <tr style=\"text-align: right;\">\n      <th></th>\n      <th>sites</th>\n      <th>date</th>\n      <th>AQI</th>\n      <th>weather</th>\n    </tr>\n  </thead>\n  <tbody>\n    <tr>\n      <th>0</th>\n      <td>迈皋桥</td>\n      <td>2019-12-08</td>\n      <td>55.0</td>\n      <td>晴</td>\n    </tr>\n    <tr>\n      <th>1</th>\n      <td>草场门</td>\n      <td>2019-12-08</td>\n      <td>75.0</td>\n      <td>晴</td>\n    </tr>\n    <tr>\n      <th>2</th>\n      <td>浦口</td>\n      <td>2019-12-08</td>\n      <td>69.0</td>\n      <td>NaN</td>\n    </tr>\n    <tr>\n      <th>3</th>\n      <td>迈皋桥</td>\n      <td>2019-12-07</td>\n      <td>45.0</td>\n      <td>NaN</td>\n    </tr>\n    <tr>\n      <th>4</th>\n      <td>草场门</td>\n      <td>2019-12-07</td>\n      <td>35.0</td>\n      <td>NaN</td>\n    </tr>\n    <tr>\n      <th>5</th>\n      <td>浦口</td>\n      <td>2019-12-07</td>\n      <td>53.0</td>\n      <td>NaN</td>\n    </tr>\n    <tr>\n      <th>6</th>\n      <td>迈皋桥</td>\n      <td>2019-12-09</td>\n      <td>NaN</td>\n      <td>多云</td>\n    </tr>\n    <tr>\n      <th>7</th>\n      <td>草场门</td>\n      <td>2019-12-09</td>\n      <td>NaN</td>\n      <td>阴</td>\n    </tr>\n  </tbody>\n</table>\n</div>"
     },
     "metadata": {},
     "output_type": "execute_result",
     "execution_count": 10
    }
   ],
   "source": [
    "pd.merge(df_left,df_right,on=['sites','date'],how='outer')"
   ],
   "metadata": {
    "collapsed": false,
    "pycharm": {
     "name": "#%%\n",
     "is_executing": false
    }
   }
  },
  {
   "cell_type": "code",
   "execution_count": 11,
   "outputs": [
    {
     "data": {
      "text/plain": "     regions\n迈皋桥      栖霞区\n草场门      鼓楼区\n浦口       浦口区\n奥体中心     建邺区\n玄武湖      玄武区",
      "text/html": "<div>\n<style scoped>\n    .dataframe tbody tr th:only-of-type {\n        vertical-align: middle;\n    }\n\n    .dataframe tbody tr th {\n        vertical-align: top;\n    }\n\n    .dataframe thead th {\n        text-align: right;\n    }\n</style>\n<table border=\"1\" class=\"dataframe\">\n  <thead>\n    <tr style=\"text-align: right;\">\n      <th></th>\n      <th>regions</th>\n    </tr>\n  </thead>\n  <tbody>\n    <tr>\n      <th>迈皋桥</th>\n      <td>栖霞区</td>\n    </tr>\n    <tr>\n      <th>草场门</th>\n      <td>鼓楼区</td>\n    </tr>\n    <tr>\n      <th>浦口</th>\n      <td>浦口区</td>\n    </tr>\n    <tr>\n      <th>奥体中心</th>\n      <td>建邺区</td>\n    </tr>\n    <tr>\n      <th>玄武湖</th>\n      <td>玄武区</td>\n    </tr>\n  </tbody>\n</table>\n</div>"
     },
     "metadata": {},
     "output_type": "execute_result",
     "execution_count": 11
    }
   ],
   "source": [
    "# 指定left_index或right_index即可轻松实现基于index的关联。\n",
    "sites_with_index = pd.DataFrame({\"regions\":[\"栖霞区\", \"鼓楼区\", \"浦口区\", \"建邺区\", \"玄武区\"]},\n",
    "                                index=[\"迈皋桥\", \"草场门\", \"浦口\", \"奥体中心\", \"玄武湖\"])\n",
    "sites_with_index"
   ],
   "metadata": {
    "collapsed": false,
    "pycharm": {
     "name": "#%%\n",
     "is_executing": false
    }
   }
  },
  {
   "cell_type": "code",
   "execution_count": 12,
   "outputs": [
    {
     "data": {
      "text/plain": "  sites  AQI  PM25  SO2 regions\n0   迈皋桥   55    30   10     栖霞区\n1   草场门   75    54   15     鼓楼区\n2    浦口   69    47   13     浦口区\n3  奥体中心   74    40   17     建邺区",
      "text/html": "<div>\n<style scoped>\n    .dataframe tbody tr th:only-of-type {\n        vertical-align: middle;\n    }\n\n    .dataframe tbody tr th {\n        vertical-align: top;\n    }\n\n    .dataframe thead th {\n        text-align: right;\n    }\n</style>\n<table border=\"1\" class=\"dataframe\">\n  <thead>\n    <tr style=\"text-align: right;\">\n      <th></th>\n      <th>sites</th>\n      <th>AQI</th>\n      <th>PM25</th>\n      <th>SO2</th>\n      <th>regions</th>\n    </tr>\n  </thead>\n  <tbody>\n    <tr>\n      <th>0</th>\n      <td>迈皋桥</td>\n      <td>55</td>\n      <td>30</td>\n      <td>10</td>\n      <td>栖霞区</td>\n    </tr>\n    <tr>\n      <th>1</th>\n      <td>草场门</td>\n      <td>75</td>\n      <td>54</td>\n      <td>15</td>\n      <td>鼓楼区</td>\n    </tr>\n    <tr>\n      <th>2</th>\n      <td>浦口</td>\n      <td>69</td>\n      <td>47</td>\n      <td>13</td>\n      <td>浦口区</td>\n    </tr>\n    <tr>\n      <th>3</th>\n      <td>奥体中心</td>\n      <td>74</td>\n      <td>40</td>\n      <td>17</td>\n      <td>建邺区</td>\n    </tr>\n  </tbody>\n</table>\n</div>"
     },
     "metadata": {},
     "output_type": "execute_result",
     "execution_count": 12
    }
   ],
   "source": [
    "# 左侧关联键为sites列，右侧关联键为索引\n",
    "pd.merge(df_polls,sites_with_index,left_on='sites',right_index=True)"
   ],
   "metadata": {
    "collapsed": false,
    "pycharm": {
     "name": "#%%\n",
     "is_executing": false
    }
   }
  },
  {
   "cell_type": "code",
   "execution_count": 13,
   "outputs": [
    {
     "data": {
      "text/plain": "       AQI  PM25  SO2\n迈皋桥     55    30   10\n草场门     75    54   15\n浦口      69    47   13\n奥体中心    74    40   17\n仙林大学城   58    27   10",
      "text/html": "<div>\n<style scoped>\n    .dataframe tbody tr th:only-of-type {\n        vertical-align: middle;\n    }\n\n    .dataframe tbody tr th {\n        vertical-align: top;\n    }\n\n    .dataframe thead th {\n        text-align: right;\n    }\n</style>\n<table border=\"1\" class=\"dataframe\">\n  <thead>\n    <tr style=\"text-align: right;\">\n      <th></th>\n      <th>AQI</th>\n      <th>PM25</th>\n      <th>SO2</th>\n    </tr>\n  </thead>\n  <tbody>\n    <tr>\n      <th>迈皋桥</th>\n      <td>55</td>\n      <td>30</td>\n      <td>10</td>\n    </tr>\n    <tr>\n      <th>草场门</th>\n      <td>75</td>\n      <td>54</td>\n      <td>15</td>\n    </tr>\n    <tr>\n      <th>浦口</th>\n      <td>69</td>\n      <td>47</td>\n      <td>13</td>\n    </tr>\n    <tr>\n      <th>奥体中心</th>\n      <td>74</td>\n      <td>40</td>\n      <td>17</td>\n    </tr>\n    <tr>\n      <th>仙林大学城</th>\n      <td>58</td>\n      <td>27</td>\n      <td>10</td>\n    </tr>\n  </tbody>\n</table>\n</div>"
     },
     "metadata": {},
     "output_type": "execute_result",
     "execution_count": 13
    }
   ],
   "source": [
    "polls_with_index = pd.DataFrame({\"AQI\":[55, 75, 69, 74, 58], \n",
    "                                 \"PM25\":[30, 54, 47,40 ,27], \n",
    "                                 \"SO2\":[10, 15, 13, 17, 10]}, \n",
    "                                index=[\"迈皋桥\", \"草场门\", \"浦口\", \"奥体中心\", \"仙林大学城\"])\n",
    "polls_with_index"
   ],
   "metadata": {
    "collapsed": false,
    "pycharm": {
     "name": "#%%\n",
     "is_executing": false
    }
   }
  },
  {
   "cell_type": "code",
   "execution_count": 15,
   "outputs": [
    {
     "data": {
      "text/plain": "      AQI  PM25  SO2 regions\n迈皋桥    55    30   10     栖霞区\n草场门    75    54   15     鼓楼区\n浦口     69    47   13     浦口区\n奥体中心   74    40   17     建邺区",
      "text/html": "<div>\n<style scoped>\n    .dataframe tbody tr th:only-of-type {\n        vertical-align: middle;\n    }\n\n    .dataframe tbody tr th {\n        vertical-align: top;\n    }\n\n    .dataframe thead th {\n        text-align: right;\n    }\n</style>\n<table border=\"1\" class=\"dataframe\">\n  <thead>\n    <tr style=\"text-align: right;\">\n      <th></th>\n      <th>AQI</th>\n      <th>PM25</th>\n      <th>SO2</th>\n      <th>regions</th>\n    </tr>\n  </thead>\n  <tbody>\n    <tr>\n      <th>迈皋桥</th>\n      <td>55</td>\n      <td>30</td>\n      <td>10</td>\n      <td>栖霞区</td>\n    </tr>\n    <tr>\n      <th>草场门</th>\n      <td>75</td>\n      <td>54</td>\n      <td>15</td>\n      <td>鼓楼区</td>\n    </tr>\n    <tr>\n      <th>浦口</th>\n      <td>69</td>\n      <td>47</td>\n      <td>13</td>\n      <td>浦口区</td>\n    </tr>\n    <tr>\n      <th>奥体中心</th>\n      <td>74</td>\n      <td>40</td>\n      <td>17</td>\n      <td>建邺区</td>\n    </tr>\n  </tbody>\n</table>\n</div>"
     },
     "metadata": {},
     "output_type": "execute_result",
     "execution_count": 15
    }
   ],
   "source": [
    "# 利用join函数实现左右DataFrame的索引关联\n",
    "polls_with_index.join(sites_with_index,how='inner')"
   ],
   "metadata": {
    "collapsed": false,
    "pycharm": {
     "name": "#%%\n",
     "is_executing": false
    }
   }
  },
  {
   "cell_type": "code",
   "execution_count": 16,
   "outputs": [
    {
     "data": {
      "text/plain": "   sites  AQI  PM25  O2\n0    迈皋桥   65    50  20\n1    草场门   85    74  35\n2     浦口   79    67  23\n3   奥体中心   78    60  37\n4  仙林大学城   78    47  15",
      "text/html": "<div>\n<style scoped>\n    .dataframe tbody tr th:only-of-type {\n        vertical-align: middle;\n    }\n\n    .dataframe tbody tr th {\n        vertical-align: top;\n    }\n\n    .dataframe thead th {\n        text-align: right;\n    }\n</style>\n<table border=\"1\" class=\"dataframe\">\n  <thead>\n    <tr style=\"text-align: right;\">\n      <th></th>\n      <th>sites</th>\n      <th>AQI</th>\n      <th>PM25</th>\n      <th>O2</th>\n    </tr>\n  </thead>\n  <tbody>\n    <tr>\n      <th>0</th>\n      <td>迈皋桥</td>\n      <td>65</td>\n      <td>50</td>\n      <td>20</td>\n    </tr>\n    <tr>\n      <th>1</th>\n      <td>草场门</td>\n      <td>85</td>\n      <td>74</td>\n      <td>35</td>\n    </tr>\n    <tr>\n      <th>2</th>\n      <td>浦口</td>\n      <td>79</td>\n      <td>67</td>\n      <td>23</td>\n    </tr>\n    <tr>\n      <th>3</th>\n      <td>奥体中心</td>\n      <td>78</td>\n      <td>60</td>\n      <td>37</td>\n    </tr>\n    <tr>\n      <th>4</th>\n      <td>仙林大学城</td>\n      <td>78</td>\n      <td>47</td>\n      <td>15</td>\n    </tr>\n  </tbody>\n</table>\n</div>"
     },
     "metadata": {},
     "output_type": "execute_result",
     "execution_count": 16
    }
   ],
   "source": [
    "'''\n",
    "另外一种常用的数据整合方法是concat，即我希望按照某种方式把两个规整的数据集进行拼接。\n",
    "pd.concat(objs, axis=0, join='outer', keys=None)\n",
    "objs：带拼接的数据集，通常以列表的形式传入；\n",
    "join：可选inner、outer，含义同merge函数；\n",
    "keys：定义新的分组索引，用来区分传入的数据集；\n",
    "'''\n",
    "new_polls = {\"sites\":[\"迈皋桥\", \"草场门\", \"浦口\", \"奥体中心\", \"仙林大学城\"], \n",
    "        \"AQI\":[65, 85, 79, 78, 78], \n",
    "        \"PM25\":[50, 74, 67,60 ,47], \n",
    "        \"O2\":[20, 35, 23, 37, 15]}\n",
    "df_new_polls=pd.DataFrame(new_polls)\n",
    "df_new_polls"
   ],
   "metadata": {
    "collapsed": false,
    "pycharm": {
     "name": "#%%\n",
     "is_executing": false
    }
   }
  },
  {
   "cell_type": "code",
   "execution_count": 17,
   "outputs": [
    {
     "data": {
      "text/plain": "              sites  AQI  PM25\n2019-12-07 0    迈皋桥   65    50\n           1    草场门   85    74\n           2     浦口   79    67\n           3   奥体中心   78    60\n           4  仙林大学城   78    47\n2019-12-08 0    迈皋桥   55    30\n           1    草场门   75    54\n           2     浦口   69    47\n           3   奥体中心   74    40\n           4  仙林大学城   58    27",
      "text/html": "<div>\n<style scoped>\n    .dataframe tbody tr th:only-of-type {\n        vertical-align: middle;\n    }\n\n    .dataframe tbody tr th {\n        vertical-align: top;\n    }\n\n    .dataframe thead th {\n        text-align: right;\n    }\n</style>\n<table border=\"1\" class=\"dataframe\">\n  <thead>\n    <tr style=\"text-align: right;\">\n      <th></th>\n      <th></th>\n      <th>sites</th>\n      <th>AQI</th>\n      <th>PM25</th>\n    </tr>\n  </thead>\n  <tbody>\n    <tr>\n      <th rowspan=\"5\" valign=\"top\">2019-12-07</th>\n      <th>0</th>\n      <td>迈皋桥</td>\n      <td>65</td>\n      <td>50</td>\n    </tr>\n    <tr>\n      <th>1</th>\n      <td>草场门</td>\n      <td>85</td>\n      <td>74</td>\n    </tr>\n    <tr>\n      <th>2</th>\n      <td>浦口</td>\n      <td>79</td>\n      <td>67</td>\n    </tr>\n    <tr>\n      <th>3</th>\n      <td>奥体中心</td>\n      <td>78</td>\n      <td>60</td>\n    </tr>\n    <tr>\n      <th>4</th>\n      <td>仙林大学城</td>\n      <td>78</td>\n      <td>47</td>\n    </tr>\n    <tr>\n      <th rowspan=\"5\" valign=\"top\">2019-12-08</th>\n      <th>0</th>\n      <td>迈皋桥</td>\n      <td>55</td>\n      <td>30</td>\n    </tr>\n    <tr>\n      <th>1</th>\n      <td>草场门</td>\n      <td>75</td>\n      <td>54</td>\n    </tr>\n    <tr>\n      <th>2</th>\n      <td>浦口</td>\n      <td>69</td>\n      <td>47</td>\n    </tr>\n    <tr>\n      <th>3</th>\n      <td>奥体中心</td>\n      <td>74</td>\n      <td>40</td>\n    </tr>\n    <tr>\n      <th>4</th>\n      <td>仙林大学城</td>\n      <td>58</td>\n      <td>27</td>\n    </tr>\n  </tbody>\n</table>\n</div>"
     },
     "metadata": {},
     "output_type": "execute_result",
     "execution_count": 17
    }
   ],
   "source": [
    "pd.concat([df_new_polls,df_polls], join='inner', keys=['2019-12-07','2019-12-08'])\n"
   ],
   "metadata": {
    "collapsed": false,
    "pycharm": {
     "name": "#%%\n",
     "is_executing": false
    }
   }
  }
 ],
 "metadata": {
  "kernelspec": {
   "name": "pycharm-a3514249",
   "language": "python",
   "display_name": "PyCharm (Self-study)"
  },
  "language_info": {
   "codemirror_mode": {
    "name": "ipython",
    "version": 3
   },
   "file_extension": ".py",
   "mimetype": "text/x-python",
   "name": "python",
   "nbconvert_exporter": "python",
   "pygments_lexer": "ipython3",
   "version": "3.7.5"
  },
  "pycharm": {
   "stem_cell": {
    "cell_type": "raw",
    "source": [],
    "metadata": {
     "collapsed": false
    }
   }
  }
 },
 "nbformat": 4,
 "nbformat_minor": 1
}